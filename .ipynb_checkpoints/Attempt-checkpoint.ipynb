{
 "cells": [
  {
   "cell_type": "markdown",
   "id": "071eddaa",
   "metadata": {},
   "source": [
    "# Microsoft Stock Price Prediction"
   ]
  },
  {
   "cell_type": "code",
   "execution_count": 1,
   "id": "9f23b655",
   "metadata": {},
   "outputs": [],
   "source": [
    "import pandas as pd\n",
    "import numpy as np\n",
    "%matplotlib inline\n",
    "import matplotlib.pyplot as plt\n",
    "import matplotlib\n",
    "from sklearn.preprocessing import MinMaxScaler\n",
    "from sklearn.model_selection import TimeSeriesSplit\n",
    "from sklearn.metrics import mean_squared_error, r2_score\n",
    "from sklearn import linear_model\n",
    "import matplotlib.dates as mdates\n",
    "from scipy.stats import pearsonr\n",
    "\n",
    "from keras.models import Sequential\n",
    "from keras.layers import Dense\n",
    "import keras.backend as K\n",
    "from keras.callbacks import EarlyStopping\n",
    "from keras.optimizers import Adam\n",
    "from keras.models import load_model\n",
    "from keras.layers import LSTM\n",
    "\n",
    "import yfinance as yf"
   ]
  },
  {
   "cell_type": "markdown",
   "id": "40cad19c",
   "metadata": {},
   "source": [
    "### Import Data"
   ]
  },
  {
   "cell_type": "code",
   "execution_count": 2,
   "id": "36250b50",
   "metadata": {},
   "outputs": [
    {
     "name": "stdout",
     "output_type": "stream",
     "text": [
      "[*********************100%***********************]  1 of 1 completed\n"
     ]
    }
   ],
   "source": [
    "msft = yf.download(\"MSFT\")"
   ]
  },
  {
   "cell_type": "markdown",
   "id": "2e0a2aa5",
   "metadata": {},
   "source": [
    "### Normalize the Data (between 0 and 1)"
   ]
  },
  {
   "cell_type": "code",
   "execution_count": 3,
   "id": "f5420a76",
   "metadata": {},
   "outputs": [
    {
     "data": {
      "text/html": [
       "<div>\n",
       "<style scoped>\n",
       "    .dataframe tbody tr th:only-of-type {\n",
       "        vertical-align: middle;\n",
       "    }\n",
       "\n",
       "    .dataframe tbody tr th {\n",
       "        vertical-align: top;\n",
       "    }\n",
       "\n",
       "    .dataframe thead th {\n",
       "        text-align: right;\n",
       "    }\n",
       "</style>\n",
       "<table border=\"1\" class=\"dataframe\">\n",
       "  <thead>\n",
       "    <tr style=\"text-align: right;\">\n",
       "      <th></th>\n",
       "      <th>Open</th>\n",
       "      <th>High</th>\n",
       "      <th>Low</th>\n",
       "      <th>Close</th>\n",
       "      <th>Adj Close</th>\n",
       "      <th>Volume</th>\n",
       "    </tr>\n",
       "    <tr>\n",
       "      <th>Date</th>\n",
       "      <th></th>\n",
       "      <th></th>\n",
       "      <th></th>\n",
       "      <th></th>\n",
       "      <th></th>\n",
       "      <th></th>\n",
       "    </tr>\n",
       "  </thead>\n",
       "  <tbody>\n",
       "    <tr>\n",
       "      <th>1986-03-13</th>\n",
       "      <td>0.000000</td>\n",
       "      <td>0.000027</td>\n",
       "      <td>0.000000</td>\n",
       "      <td>0.097222</td>\n",
       "      <td>0.000013</td>\n",
       "      <td>1031788800</td>\n",
       "    </tr>\n",
       "    <tr>\n",
       "      <th>1986-03-14</th>\n",
       "      <td>0.000025</td>\n",
       "      <td>0.000030</td>\n",
       "      <td>0.000025</td>\n",
       "      <td>0.100694</td>\n",
       "      <td>0.000019</td>\n",
       "      <td>308160000</td>\n",
       "    </tr>\n",
       "    <tr>\n",
       "      <th>1986-03-17</th>\n",
       "      <td>0.000035</td>\n",
       "      <td>0.000032</td>\n",
       "      <td>0.000036</td>\n",
       "      <td>0.102431</td>\n",
       "      <td>0.000022</td>\n",
       "      <td>133171200</td>\n",
       "    </tr>\n",
       "    <tr>\n",
       "      <th>1986-03-18</th>\n",
       "      <td>0.000040</td>\n",
       "      <td>0.000032</td>\n",
       "      <td>0.000030</td>\n",
       "      <td>0.099826</td>\n",
       "      <td>0.000018</td>\n",
       "      <td>67766400</td>\n",
       "    </tr>\n",
       "    <tr>\n",
       "      <th>1986-03-19</th>\n",
       "      <td>0.000033</td>\n",
       "      <td>0.000025</td>\n",
       "      <td>0.000025</td>\n",
       "      <td>0.098090</td>\n",
       "      <td>0.000014</td>\n",
       "      <td>47894400</td>\n",
       "    </tr>\n",
       "  </tbody>\n",
       "</table>\n",
       "</div>"
      ],
      "text/plain": [
       "                Open      High       Low     Close  Adj Close      Volume\n",
       "Date                                                                     \n",
       "1986-03-13  0.000000  0.000027  0.000000  0.097222   0.000013  1031788800\n",
       "1986-03-14  0.000025  0.000030  0.000025  0.100694   0.000019   308160000\n",
       "1986-03-17  0.000035  0.000032  0.000036  0.102431   0.000022   133171200\n",
       "1986-03-18  0.000040  0.000032  0.000030  0.099826   0.000018    67766400\n",
       "1986-03-19  0.000033  0.000025  0.000025  0.098090   0.000014    47894400"
      ]
     },
     "execution_count": 3,
     "metadata": {},
     "output_type": "execute_result"
    }
   ],
   "source": [
    "msft_norm = msft.copy()\n",
    "scaler = MinMaxScaler(feature_range = (0,1))\n",
    "msft_norm[['Open', 'High', 'Low', 'Adj Close']] = scaler.fit_transform(msft_norm[['Open', 'High', 'Low', 'Adj Close']])\n",
    "msft_norm.head()"
   ]
  },
  {
   "cell_type": "markdown",
   "id": "8202112a",
   "metadata": {},
   "source": [
    "# 1) Predicting tomorrow's closing price"
   ]
  },
  {
   "cell_type": "code",
   "execution_count": 4,
   "id": "f4a84f1a",
   "metadata": {},
   "outputs": [],
   "source": [
    "features = ['Open', 'High', 'Low', 'Adj Close']\n",
    "\n",
    "def offset_table(df, days):\n",
    "    # Input: dataframe and days \n",
    "    # Output: The same dataframe, but with an extra Y column. The Y column is 'Adj Close' from the same table, but n days in advance\n",
    "\n",
    "    x_temp = df[:-days].reset_index()\n",
    "    y_temp = df[days:].reset_index()['Adj Close']\n",
    "\n",
    "    result = x_temp.join(y_temp, rsuffix='Y')\n",
    "    result.rename({'Adj CloseY':'Y'}, axis='columns', inplace=True)\n",
    "    return result"
   ]
  },
  {
   "cell_type": "code",
   "execution_count": 24,
   "id": "a185a01d",
   "metadata": {},
   "outputs": [],
   "source": [
    "msft_offset = offset_table(msft_norm, 1)"
   ]
  },
  {
   "cell_type": "code",
   "execution_count": 6,
   "id": "f63777f9",
   "metadata": {},
   "outputs": [
    {
     "data": {
      "text/plain": [
       "PearsonRResult(statistic=0.9978021441064926, pvalue=0.0)"
      ]
     },
     "execution_count": 6,
     "metadata": {},
     "output_type": "execute_result"
    }
   ],
   "source": [
    "# Pearson R coefficient\n",
    "col_name = 'Open'\n",
    "pearsonr(msft_offset[col_name], msft_offset['Y'])"
   ]
  },
  {
   "cell_type": "markdown",
   "id": "2c0c1d7b",
   "metadata": {},
   "source": [
    "    The above cell calculates the Pearson R coefficient between OHLC and Adj Close for the next day. As expected, there is a strong correlation between the yesterday's OHLC numbers and tomorrow's closing stock prices"
   ]
  },
  {
   "cell_type": "markdown",
   "id": "bacc8f8a",
   "metadata": {},
   "source": [
    "### Split into train and test"
   ]
  },
  {
   "cell_type": "code",
   "execution_count": 7,
   "id": "a0410c1f",
   "metadata": {},
   "outputs": [],
   "source": [
    "def train_test_split(df, train_ratio):\n",
    "    # Input: Takes df; table and train_ratio; an int between 0 and 1 representing the ratio of train:test\n",
    "\n",
    "    train_rows = round(df.shape[0] * train_ratio) # num of rows to train vs test\n",
    "    \n",
    "    train = df.iloc[0:train_rows, :]  # Splitting the data\n",
    "    test = df.iloc[train_rows::, :]\n",
    "    X_train, Y_train = train[features], train['Y']\n",
    "    X_test, Y_test = test[features], test['Y']\n",
    "    \n",
    "    X_train = np.array(X_train) # Reformat\n",
    "    X_test = np.array(X_test)\n",
    "\n",
    "    X_tr_t = X_train.reshape(X_train.shape[0], 1, X_train.shape[1])\n",
    "    X_tst_t = X_test.reshape(X_test.shape[0], 1, X_test.shape[1])\n",
    "    \n",
    "    return X_tr_t, Y_train, X_tst_t, Y_test"
   ]
  },
  {
   "cell_type": "code",
   "execution_count": 8,
   "id": "6932579c",
   "metadata": {},
   "outputs": [],
   "source": [
    "split_ratio = 0.7\n",
    "X_train, Y_train, X_test, Y_test = train_test_split(msft_offset, split_ratio)"
   ]
  },
  {
   "cell_type": "markdown",
   "id": "cf0c33a5",
   "metadata": {},
   "source": [
    "### Build Model\n",
    "    Input layer -> Hidden Layer (16 Nodes) -> Output layer."
   ]
  },
  {
   "cell_type": "code",
   "execution_count": 9,
   "id": "7cb35703",
   "metadata": {
    "scrolled": true
   },
   "outputs": [],
   "source": [
    "K.clear_session()\n",
    "model = Sequential()\n",
    "model.add(LSTM(16, input_shape=(1, X_train.shape[2]), activation='relu', return_sequences=False))\n",
    "model.add(Dense(1)) \n",
    "model.compile(loss='mean_squared_error', optimizer='adam')\n",
    "early_stop = EarlyStopping(monitor='loss', patience=10, verbose=1)"
   ]
  },
  {
   "cell_type": "code",
   "execution_count": 10,
   "id": "54aef148",
   "metadata": {
    "scrolled": true
   },
   "outputs": [
    {
     "name": "stdout",
     "output_type": "stream",
     "text": [
      "Epoch 1/50\n",
      "813/813 [==============================] - 1s 689us/step - loss: 1.5024e-05\n",
      "Epoch 2/50\n",
      "813/813 [==============================] - 1s 693us/step - loss: 3.1117e-05\n",
      "Epoch 3/50\n",
      "813/813 [==============================] - 1s 685us/step - loss: 3.0826e-05\n",
      "Epoch 4/50\n",
      "813/813 [==============================] - 1s 682us/step - loss: 2.0212e-05\n",
      "Epoch 5/50\n",
      "813/813 [==============================] - 1s 682us/step - loss: 1.8970e-05\n",
      "Epoch 6/50\n",
      "813/813 [==============================] - 1s 681us/step - loss: 1.0821e-05\n",
      "Epoch 7/50\n",
      "813/813 [==============================] - 1s 686us/step - loss: 1.1044e-05\n",
      "Epoch 8/50\n",
      "813/813 [==============================] - 1s 682us/step - loss: 5.5991e-06\n",
      "Epoch 9/50\n",
      "813/813 [==============================] - 1s 686us/step - loss: 6.0150e-06\n",
      "Epoch 10/50\n",
      "813/813 [==============================] - 1s 687us/step - loss: 3.7037e-06\n",
      "Epoch 11/50\n",
      "813/813 [==============================] - 1s 690us/step - loss: 4.5243e-06\n",
      "Epoch 12/50\n",
      "813/813 [==============================] - 1s 694us/step - loss: 4.5743e-06\n",
      "Epoch 13/50\n",
      "813/813 [==============================] - 1s 693us/step - loss: 4.2732e-06\n",
      "Epoch 14/50\n",
      "813/813 [==============================] - 1s 688us/step - loss: 4.0476e-06\n",
      "Epoch 15/50\n",
      "813/813 [==============================] - 1s 687us/step - loss: 4.8026e-06\n",
      "Epoch 16/50\n",
      "813/813 [==============================] - 1s 687us/step - loss: 3.4351e-06\n",
      "Epoch 17/50\n",
      "813/813 [==============================] - 1s 685us/step - loss: 3.5254e-06\n",
      "Epoch 18/50\n",
      "813/813 [==============================] - 1s 688us/step - loss: 4.3204e-06\n",
      "Epoch 19/50\n",
      "813/813 [==============================] - 1s 689us/step - loss: 4.5535e-06\n",
      "Epoch 20/50\n",
      "813/813 [==============================] - 1s 692us/step - loss: 3.7872e-06\n",
      "Epoch 21/50\n",
      "813/813 [==============================] - 1s 683us/step - loss: 3.7485e-06\n",
      "Epoch 22/50\n",
      "813/813 [==============================] - 1s 699us/step - loss: 3.9896e-06\n",
      "Epoch 23/50\n",
      "813/813 [==============================] - 1s 687us/step - loss: 4.0510e-06\n",
      "Epoch 24/50\n",
      "813/813 [==============================] - 1s 680us/step - loss: 3.7493e-06\n",
      "Epoch 25/50\n",
      "813/813 [==============================] - 1s 682us/step - loss: 3.8247e-06\n",
      "Epoch 26/50\n",
      "813/813 [==============================] - 1s 682us/step - loss: 4.0309e-06\n",
      "Epoch 26: early stopping\n"
     ]
    },
    {
     "data": {
      "text/plain": [
       "<keras.callbacks.History at 0x1b16a2d7070>"
      ]
     },
     "execution_count": 10,
     "metadata": {},
     "output_type": "execute_result"
    }
   ],
   "source": [
    "model.fit(X_train, Y_train, epochs=50, batch_size=8, verbose=1, shuffle=False, callbacks=[early_stop])"
   ]
  },
  {
   "cell_type": "code",
   "execution_count": 11,
   "id": "a4985fb8",
   "metadata": {},
   "outputs": [
    {
     "name": "stdout",
     "output_type": "stream",
     "text": [
      "204/204 [==============================] - 0s 488us/step\n",
      "The R2 score on the Train set is:\t0.835\n",
      "88/88 [==============================] - 0s 495us/step\n",
      "The R2 score on the Test set is:\t0.818\n"
     ]
    }
   ],
   "source": [
    "Y_train_pred = model.predict(X_train)\n",
    "print(\"The R2 score on the Train set is:\\t{:0.3f}\".format(r2_score(Y_train, Y_train_pred)))\n",
    "r2_train = r2_score(Y_train, Y_train_pred)\n",
    "\n",
    "Y_test_pred = model.predict(X_test)\n",
    "print(\"The R2 score on the Test set is:\\t{:0.3f}\".format(r2_score(Y_test, Y_test_pred)))\n",
    "r2_test = r2_score(Y_test, Y_test_pred)"
   ]
  },
  {
   "cell_type": "code",
   "execution_count": 12,
   "id": "4bade87c",
   "metadata": {},
   "outputs": [
    {
     "name": "stdout",
     "output_type": "stream",
     "text": [
      "2786/2786 [==============================] - 1s 464us/step - loss: 0.0130\n"
     ]
    }
   ],
   "source": [
    "loss = model.evaluate(X_test, Y_test, batch_size=1)"
   ]
  },
  {
   "cell_type": "code",
   "execution_count": 13,
   "id": "8b7503d1",
   "metadata": {},
   "outputs": [
    {
     "name": "stderr",
     "output_type": "stream",
     "text": [
      "C:\\Users\\Kenta Sakai\\AppData\\Local\\Temp\\ipykernel_27228\\1943297921.py:4: SettingWithCopyWarning: \n",
      "A value is trying to be set on a copy of a slice from a DataFrame.\n",
      "Try using .loc[row_indexer,col_indexer] = value instead\n",
      "\n",
      "See the caveats in the documentation: https://pandas.pydata.org/pandas-docs/stable/user_guide/indexing.html#returning-a-view-versus-a-copy\n",
      "  final_df['Y_pred'] = Y_test_pred\n"
     ]
    },
    {
     "data": {
      "image/png": "[encoded data removed]",
      "text/plain": [
       "<Figure size 640x480 with 1 Axes>"
      ]
     },
     "metadata": {},
     "output_type": "display_data"
    }
   ],
   "source": [
    "# Add Y_test_pred to  \n",
    "train_rows = round(msft_offset.shape[0] * split_ratio)\n",
    "final_df = msft_offset.iloc[train_rows::, :]\n",
    "final_df['Y_pred'] = Y_test_pred\n",
    "\n",
    "# Plot\n",
    "plt.plot(final_df['Date'], final_df['Y_pred'], label = 'Prediction')\n",
    "plt.plot(final_df['Date'], final_df['Y'], label = 'True')\n",
    "plt.title(\"MSFT Stock Prediction\")\n",
    "plt.ylabel('Adjusted Price (Scaled)')\n",
    "plt.legend()\n",
    "plt.show()"
   ]
  },
  {
   "cell_type": "markdown",
   "id": "039f5e98",
   "metadata": {},
   "source": [
    "    The prediction is good at forecasting the stock price patterns, but tend to undervalue the stocks. This trend gets worse as time goes on, which is reasonable because it is a time series prediction. Because we are using the earliest 70% of the data to train the model, as we move further into the future, the less the training data reflects the test data, and so we see greater variance like the plot above."
   ]
  },
  {
   "cell_type": "markdown",
   "id": "bd9caa1a",
   "metadata": {},
   "source": [
    "# 2) Predicting next week's closing price "
   ]
  },
  {
   "cell_type": "code",
   "execution_count": 14,
   "id": "83d615f9",
   "metadata": {},
   "outputs": [],
   "source": [
    "msft_offset = offset_table(msft_norm, 5) # offset data by 5 days\n",
    "X_train, Y_train, X_test, Y_test = train_test_split(msft_offset, split_ratio)"
   ]
  },
  {
   "cell_type": "code",
   "execution_count": 15,
   "id": "ce25e404",
   "metadata": {
    "scrolled": true
   },
   "outputs": [
    {
     "name": "stdout",
     "output_type": "stream",
     "text": [
      "Epoch 1/50\n",
      "813/813 [==============================] - 1s 690us/step - loss: 7.8720e-06\n",
      "Epoch 2/50\n",
      "813/813 [==============================] - 1s 689us/step - loss: 9.6287e-06\n",
      "Epoch 3/50\n",
      "813/813 [==============================] - 1s 685us/step - loss: 1.1573e-05\n",
      "Epoch 4/50\n",
      "813/813 [==============================] - 1s 689us/step - loss: 1.0244e-05\n",
      "Epoch 5/50\n",
      "813/813 [==============================] - 1s 692us/step - loss: 1.1171e-05\n",
      "Epoch 6/50\n",
      "813/813 [==============================] - 1s 688us/step - loss: 1.0873e-05\n",
      "Epoch 7/50\n",
      "813/813 [==============================] - 1s 690us/step - loss: 1.0758e-05\n",
      "Epoch 8/50\n",
      "813/813 [==============================] - 1s 703us/step - loss: 1.1434e-05\n",
      "Epoch 9/50\n",
      "813/813 [==============================] - 1s 693us/step - loss: 1.0787e-05\n",
      "Epoch 10/50\n",
      "813/813 [==============================] - 1s 698us/step - loss: 1.0616e-05\n",
      "Epoch 11/50\n",
      "813/813 [==============================] - 1s 698us/step - loss: 1.0247e-05\n",
      "Epoch 11: early stopping\n"
     ]
    },
    {
     "data": {
      "text/plain": [
       "<keras.callbacks.History at 0x1b16f9ce7f0>"
      ]
     },
     "execution_count": 15,
     "metadata": {},
     "output_type": "execute_result"
    }
   ],
   "source": [
    "model.fit(X_train, Y_train, epochs=50, batch_size=8, verbose=1, shuffle=False, callbacks=[early_stop])"
   ]
  },
  {
   "cell_type": "code",
   "execution_count": 16,
   "id": "f5938a49",
   "metadata": {},
   "outputs": [
    {
     "name": "stdout",
     "output_type": "stream",
     "text": [
      "204/204 [==============================] - 0s 498us/step\n",
      "The R2 score on the Train set is:\t0.636\n",
      "88/88 [==============================] - 0s 495us/step\n",
      "The R2 score on the Test set is:\t0.253\n"
     ]
    }
   ],
   "source": [
    "Y_train_pred = model.predict(X_train)\n",
    "print(\"The R2 score on the Train set is:\\t{:0.3f}\".format(r2_score(Y_train, Y_train_pred)))\n",
    "r2_train = r2_score(Y_train, Y_train_pred)\n",
    "\n",
    "Y_test_pred = model.predict(X_test)\n",
    "print(\"The R2 score on the Test set is:\\t{:0.3f}\".format(r2_score(Y_test, Y_test_pred)))\n",
    "r2_test = r2_score(Y_test, Y_test_pred)"
   ]
  },
  {
   "cell_type": "code",
   "execution_count": 17,
   "id": "0129b159",
   "metadata": {},
   "outputs": [
    {
     "name": "stdout",
     "output_type": "stream",
     "text": [
      "2785/2785 [==============================] - 1s 480us/step - loss: 0.0533\n"
     ]
    }
   ],
   "source": [
    "loss = model.evaluate(X_test, Y_test, batch_size=1)"
   ]
  },
  {
   "cell_type": "code",
   "execution_count": 18,
   "id": "079dc109",
   "metadata": {},
   "outputs": [
    {
     "name": "stderr",
     "output_type": "stream",
     "text": [
      "C:\\Users\\Kenta Sakai\\AppData\\Local\\Temp\\ipykernel_27228\\1943297921.py:4: SettingWithCopyWarning: \n",
      "A value is trying to be set on a copy of a slice from a DataFrame.\n",
      "Try using .loc[row_indexer,col_indexer] = value instead\n",
      "\n",
      "See the caveats in the documentation: https://pandas.pydata.org/pandas-docs/stable/user_guide/indexing.html#returning-a-view-versus-a-copy\n",
      "  final_df['Y_pred'] = Y_test_pred\n"
     ]
    },
    {
     "data": {
      "image/png": "[encoded data removed]",
      "text/plain": [
       "<Figure size 640x480 with 1 Axes>"
      ]
     },
     "metadata": {},
     "output_type": "display_data"
    }
   ],
   "source": [
    "# Add Y_test_pred to  \n",
    "train_rows = round(msft_offset.shape[0] * split_ratio)\n",
    "final_df = msft_offset.iloc[train_rows::, :]\n",
    "final_df['Y_pred'] = Y_test_pred\n",
    "\n",
    "# Plot\n",
    "plt.plot(final_df['Date'], final_df['Y_pred'], label = 'Prediction')\n",
    "plt.plot(final_df['Date'], final_df['Y'], label = 'True')\n",
    "plt.title(\"MSFT Stock Prediction\")\n",
    "plt.ylabel('Adjusted Price (Scaled)')\n",
    "plt.legend()\n",
    "plt.show()"
   ]
  },
  {
   "cell_type": "markdown",
   "id": "12d1ac9d",
   "metadata": {},
   "source": [
    "    Predicting stock prices one week in the future is a bit more difficult. The issue we saw previously is more pronounced, but  the model is still able to predicts patterns accurately."
   ]
  },
  {
   "cell_type": "markdown",
   "id": "5bfa072f",
   "metadata": {},
   "source": [
    "# 3) Predicting  Up or Down"
   ]
  },
  {
   "cell_type": "code",
   "execution_count": 128,
   "id": "e98b8736",
   "metadata": {},
   "outputs": [],
   "source": [
    "msft_up = msft_offset.copy() # msft_offset with additional Up? column. True if stock price went up, false if not.\n",
    "msft_up['Up?'] = msft_offset['Y'] >= msft_offset['Adj Close']\n",
    "msft_up[\"Up?\"] = msft_up[\"Up?\"].astype(int)"
   ]
  },
  {
   "cell_type": "code",
   "execution_count": 94,
   "id": "d498db8b",
   "metadata": {},
   "outputs": [],
   "source": [
    "def tt_split(df, train_ratio):\n",
    "    # Train_ratio is an int between 0 and 1 representing the train test spilt ratio\n",
    "    train_rows = round(df.shape[0] * train_ratio) # num of rows to train vs test\n",
    "    \n",
    "    train = df.iloc[0:train_rows, :]  # Splitting the data\n",
    "    test = df.iloc[train_rows::, :]\n",
    "    X_train, Y_train = train[features], train['Up?']\n",
    "    X_test, Y_test = test[features], test['Up?']\n",
    "    \n",
    "    X_train = np.array(X_train) # Reformat\n",
    "    X_test = np.array(X_test)\n",
    "\n",
    "    X_tr_t = X_train.reshape(X_train.shape[0], 1, X_train.shape[1])\n",
    "    X_tst_t = X_test.reshape(X_test.shape[0], 1, X_test.shape[1])\n",
    "    \n",
    "    return X_tr_t, Y_train, X_tst_t, Y_test\n",
    "\n",
    "X_train, Y_train, X_test, Y_test = tt_split(msft_up, split_ratio)"
   ]
  },
  {
   "cell_type": "code",
   "execution_count": 129,
   "id": "835d870e",
   "metadata": {
    "scrolled": true
   },
   "outputs": [
    {
     "name": "stdout",
     "output_type": "stream",
     "text": [
      "Epoch 1/50\n",
      "813/813 [==============================] - 1s 581us/step - loss: 0.6919 - accuracy: 0.5259\n",
      "Epoch 2/50\n",
      "813/813 [==============================] - 0s 583us/step - loss: 0.6913 - accuracy: 0.5258\n",
      "Epoch 3/50\n",
      "813/813 [==============================] - 0s 579us/step - loss: 0.6913 - accuracy: 0.5258\n",
      "Epoch 4/50\n",
      "813/813 [==============================] - 0s 581us/step - loss: 0.6913 - accuracy: 0.5256\n",
      "Epoch 5/50\n",
      "813/813 [==============================] - 0s 582us/step - loss: 0.6912 - accuracy: 0.5255\n",
      "Epoch 6/50\n",
      "813/813 [==============================] - 0s 579us/step - loss: 0.6912 - accuracy: 0.5264\n",
      "Epoch 7/50\n",
      "813/813 [==============================] - 0s 584us/step - loss: 0.6912 - accuracy: 0.5264\n",
      "Epoch 8/50\n",
      "813/813 [==============================] - 0s 587us/step - loss: 0.6911 - accuracy: 0.5244\n",
      "Epoch 9/50\n",
      "813/813 [==============================] - 0s 583us/step - loss: 0.6912 - accuracy: 0.5259\n",
      "Epoch 10/50\n",
      "813/813 [==============================] - 0s 571us/step - loss: 0.6912 - accuracy: 0.5247\n",
      "Epoch 11/50\n",
      "813/813 [==============================] - 0s 566us/step - loss: 0.6912 - accuracy: 0.5244\n",
      "Epoch 12/50\n",
      "813/813 [==============================] - 0s 568us/step - loss: 0.6911 - accuracy: 0.5244\n",
      "Epoch 13/50\n",
      "813/813 [==============================] - 0s 566us/step - loss: 0.6912 - accuracy: 0.5244\n",
      "Epoch 14/50\n",
      "813/813 [==============================] - 0s 574us/step - loss: 0.6911 - accuracy: 0.5252\n",
      "Epoch 15/50\n",
      "813/813 [==============================] - 0s 567us/step - loss: 0.6911 - accuracy: 0.5250\n",
      "Epoch 16/50\n",
      "813/813 [==============================] - 0s 578us/step - loss: 0.6911 - accuracy: 0.5252\n",
      "Epoch 17/50\n",
      "813/813 [==============================] - 0s 576us/step - loss: 0.6911 - accuracy: 0.5253\n",
      "Epoch 18/50\n",
      "813/813 [==============================] - 0s 583us/step - loss: 0.6911 - accuracy: 0.5267\n",
      "Epoch 19/50\n",
      "813/813 [==============================] - 0s 576us/step - loss: 0.6911 - accuracy: 0.5270\n",
      "Epoch 20/50\n",
      "813/813 [==============================] - 0s 589us/step - loss: 0.6911 - accuracy: 0.5270\n",
      "Epoch 21/50\n",
      "813/813 [==============================] - 0s 592us/step - loss: 0.6911 - accuracy: 0.5264\n",
      "Epoch 22/50\n",
      "813/813 [==============================] - 0s 582us/step - loss: 0.6911 - accuracy: 0.5271\n",
      "Epoch 23/50\n",
      "813/813 [==============================] - 0s 577us/step - loss: 0.6911 - accuracy: 0.5265\n",
      "Epoch 24/50\n",
      "813/813 [==============================] - 0s 576us/step - loss: 0.6911 - accuracy: 0.5267\n",
      "Epoch 25/50\n",
      "813/813 [==============================] - 0s 571us/step - loss: 0.6911 - accuracy: 0.5267\n",
      "Epoch 26/50\n",
      "813/813 [==============================] - 0s 574us/step - loss: 0.6910 - accuracy: 0.5275\n",
      "Epoch 27/50\n",
      "813/813 [==============================] - 0s 598us/step - loss: 0.6911 - accuracy: 0.5271\n",
      "Epoch 28/50\n",
      "813/813 [==============================] - 0s 573us/step - loss: 0.6910 - accuracy: 0.5291\n",
      "Epoch 29/50\n",
      "813/813 [==============================] - 0s 574us/step - loss: 0.6910 - accuracy: 0.5291\n",
      "Epoch 30/50\n",
      "813/813 [==============================] - 0s 571us/step - loss: 0.6910 - accuracy: 0.5291\n",
      "Epoch 31/50\n",
      "813/813 [==============================] - 0s 572us/step - loss: 0.6910 - accuracy: 0.5290\n",
      "Epoch 32/50\n",
      "813/813 [==============================] - 0s 571us/step - loss: 0.6911 - accuracy: 0.5278\n",
      "Epoch 33/50\n",
      "813/813 [==============================] - 0s 573us/step - loss: 0.6910 - accuracy: 0.5285\n",
      "Epoch 34/50\n",
      "813/813 [==============================] - 0s 569us/step - loss: 0.6911 - accuracy: 0.5275\n",
      "Epoch 35/50\n",
      "813/813 [==============================] - 0s 568us/step - loss: 0.6911 - accuracy: 0.5278\n",
      "Epoch 36/50\n",
      "813/813 [==============================] - 0s 567us/step - loss: 0.6910 - accuracy: 0.5298\n",
      "Epoch 37/50\n",
      "813/813 [==============================] - 0s 567us/step - loss: 0.6911 - accuracy: 0.5278\n",
      "Epoch 38/50\n",
      "813/813 [==============================] - 0s 566us/step - loss: 0.6910 - accuracy: 0.5305\n",
      "Epoch 39/50\n",
      "813/813 [==============================] - 0s 563us/step - loss: 0.6910 - accuracy: 0.5307\n",
      "Epoch 40/50\n",
      "813/813 [==============================] - 0s 560us/step - loss: 0.6911 - accuracy: 0.5291\n",
      "Epoch 41/50\n",
      "813/813 [==============================] - 0s 563us/step - loss: 0.6910 - accuracy: 0.5307\n",
      "Epoch 42/50\n",
      "813/813 [==============================] - 0s 558us/step - loss: 0.6910 - accuracy: 0.5293\n",
      "Epoch 43/50\n",
      "813/813 [==============================] - 0s 565us/step - loss: 0.6910 - accuracy: 0.5296\n",
      "Epoch 44/50\n",
      "813/813 [==============================] - 0s 555us/step - loss: 0.6910 - accuracy: 0.5310\n",
      "Epoch 45/50\n",
      "813/813 [==============================] - 0s 565us/step - loss: 0.6910 - accuracy: 0.5281\n",
      "Epoch 46/50\n",
      "813/813 [==============================] - 0s 567us/step - loss: 0.6910 - accuracy: 0.5298\n",
      "Epoch 47/50\n",
      "813/813 [==============================] - 0s 563us/step - loss: 0.6909 - accuracy: 0.5281\n",
      "Epoch 48/50\n",
      "813/813 [==============================] - 0s 576us/step - loss: 0.6910 - accuracy: 0.5293\n",
      "Epoch 49/50\n",
      "813/813 [==============================] - 0s 567us/step - loss: 0.6910 - accuracy: 0.5293\n",
      "Epoch 50/50\n",
      "813/813 [==============================] - 0s 576us/step - loss: 0.6910 - accuracy: 0.5299\n"
     ]
    },
    {
     "data": {
      "text/plain": [
       "<keras.callbacks.History at 0x1b1269deeb0>"
      ]
     },
     "execution_count": 129,
     "metadata": {},
     "output_type": "execute_result"
    }
   ],
   "source": [
    "K.clear_session()\n",
    "model = Sequential()\n",
    "model.add(Dense(8, activation='relu', input_shape=(1, X_train.shape[2])))\n",
    "model.add(Dense(8, activation='relu'))\n",
    "model.add(Dense(1, activation='sigmoid'))\n",
    "model.compile(loss='binary_crossentropy', optimizer='sgd', metrics = 'accuracy')\n",
    "early_stop = EarlyStopping(monitor='loss', patience=10, verbose=1)\n",
    "\n",
    "model.fit(X_train, Y_train, epochs=50, batch_size=8, verbose=1, shuffle=False, callbacks=[early_stop])"
   ]
  },
  {
   "cell_type": "code",
   "execution_count": 127,
   "id": "a0456dc9",
   "metadata": {},
   "outputs": [
    {
     "name": "stdout",
     "output_type": "stream",
     "text": [
      "88/88 [==============================] - 0s 449us/step\n",
      "88/88 [==============================] - 0s 529us/step - loss: 0.8055 - accuracy: 0.4684\n"
     ]
    }
   ],
   "source": [
    "y_pred = model.predict(X_test)\n",
    "score = model.evaluate(X_test, Y_test,verbose=1)"
   ]
  }
 ],
 "metadata": {
  "kernelspec": {
   "display_name": "Python 3 (ipykernel)",
   "language": "python",
   "name": "python3"
  },
  "language_info": {
   "codemirror_mode": {
    "name": "ipython",
    "version": 3
   },
   "file_extension": ".py",
   "mimetype": "text/x-python",
   "name": "python",
   "nbconvert_exporter": "python",
   "pygments_lexer": "ipython3",
   "version": "3.9.13"
  }
 },
 "nbformat": 4,
 "nbformat_minor": 5
}
