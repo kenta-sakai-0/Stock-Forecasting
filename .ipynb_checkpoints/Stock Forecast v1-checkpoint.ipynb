{
 "cells": [
  {
   "cell_type": "markdown",
   "id": "071eddaa",
   "metadata": {},
   "source": [
    "# Stock Price Prediction"
   ]
  },
  {
   "cell_type": "code",
   "execution_count": 83,
   "id": "9f23b655",
   "metadata": {},
   "outputs": [],
   "source": [
    "import pandas as pd\n",
    "import numpy as np\n",
    "%matplotlib inline\n",
    "import matplotlib.pyplot as plt\n",
    "import matplotlib\n",
    "from sklearn.preprocessing import MinMaxScaler\n",
    "from sklearn.model_selection import TimeSeriesSplit\n",
    "from sklearn.metrics import mean_squared_error, r2_score\n",
    "from sklearn import linear_model\n",
    "import matplotlib.dates as mdates\n",
    "from scipy.stats import pearsonr\n",
    "\n",
    "from keras.models import Sequential\n",
    "from keras.layers import Dense\n",
    "import keras.backend as K\n",
    "from keras.callbacks import EarlyStopping\n",
    "from keras.optimizers import Adam\n",
    "from keras.models import load_model\n",
    "from keras.layers import LSTM\n",
    "from keras.layers import Dropout\n",
    "\n",
    "import yfinance as yf"
   ]
  },
  {
   "cell_type": "markdown",
   "id": "00204c1b",
   "metadata": {},
   "source": [
    "## Microsoft Stock Prediction"
   ]
  },
  {
   "cell_type": "markdown",
   "id": "40cad19c",
   "metadata": {},
   "source": [
    "### Import Data"
   ]
  },
  {
   "cell_type": "code",
   "execution_count": 84,
   "id": "36250b50",
   "metadata": {},
   "outputs": [
    {
     "name": "stdout",
     "output_type": "stream",
     "text": [
      "[*********************100%***********************]  1 of 1 completed\n"
     ]
    }
   ],
   "source": [
    "msft = yf.download(\"MSFT\")"
   ]
  },
  {
   "cell_type": "markdown",
   "id": "2e0a2aa5",
   "metadata": {},
   "source": [
    "### Normalize the Data (between 0 and 1)"
   ]
  },
  {
   "cell_type": "code",
   "execution_count": 85,
   "id": "85d5c20f",
   "metadata": {},
   "outputs": [],
   "source": [
    "def normalize(df):\n",
    "    # Normalize the DataFrame\n",
    "    df_norm = df.copy()\n",
    "    scaler = MinMaxScaler(feature_range = (0,1))\n",
    "    df_norm[['Open', 'High', 'Low', 'Adj Close']] = scaler.fit_transform(df_norm[['Open', 'High', 'Low', 'Adj Close']])\n",
    "    \n",
    "    return df_norm\n",
    "msft_norm = normalize(msft)"
   ]
  },
  {
   "cell_type": "markdown",
   "id": "8202112a",
   "metadata": {},
   "source": [
    "## 1) Predicting tomorrow's closing price"
   ]
  },
  {
   "cell_type": "code",
   "execution_count": 86,
   "id": "f4a84f1a",
   "metadata": {},
   "outputs": [],
   "source": [
    "features = ['Open', 'High', 'Low', 'Adj Close']\n",
    "\n",
    "def offset_table(df, days):\n",
    "    # Input: dataframe and days \n",
    "    # Output: The same dataframe, but with an extra Y column. The Y column is 'Adj Close' from the same table, but n days in advance\n",
    "\n",
    "    x_temp = df[:-days].reset_index()\n",
    "    y_temp = df[days:].reset_index()['Adj Close']\n",
    "\n",
    "    result = x_temp.join(y_temp, rsuffix='Y')\n",
    "    result.rename({'Adj CloseY':'Y'}, axis='columns', inplace=True)\n",
    "    return result"
   ]
  },
  {
   "cell_type": "code",
   "execution_count": 87,
   "id": "a185a01d",
   "metadata": {},
   "outputs": [],
   "source": [
    "msft_offset = offset_table(msft_norm, 1)"
   ]
  },
  {
   "cell_type": "code",
   "execution_count": 88,
   "id": "f63777f9",
   "metadata": {},
   "outputs": [
    {
     "data": {
      "text/plain": [
       "PearsonRResult(statistic=0.9978038012209319, pvalue=0.0)"
      ]
     },
     "execution_count": 88,
     "metadata": {},
     "output_type": "execute_result"
    }
   ],
   "source": [
    "# Pearson R coefficient\n",
    "col_name = 'Open'\n",
    "pearsonr(msft_offset[col_name], msft_offset['Y'])"
   ]
  },
  {
   "cell_type": "markdown",
   "id": "2c0c1d7b",
   "metadata": {},
   "source": [
    "    The above cell calculates the Pearson R coefficient between OHLC and Adj Close for the next day. As expected, there is a strong correlation between the yesterday's OHLC numbers and tomorrow's closing stock prices"
   ]
  },
  {
   "cell_type": "markdown",
   "id": "bacc8f8a",
   "metadata": {},
   "source": [
    "### Split into train and test"
   ]
  },
  {
   "cell_type": "code",
   "execution_count": 89,
   "id": "a0410c1f",
   "metadata": {},
   "outputs": [],
   "source": [
    "def train_test_split(df, split_ratio):\n",
    "    # Input: Takes df and split_ratio; an int between 0 and 1 representing the ratio of train:test\n",
    "\n",
    "    train_rows = round(df.shape[0] * split_ratio) # num of rows to train vs test\n",
    "    \n",
    "    train = df.iloc[0:train_rows, :]  # Splitting the data\n",
    "    test = df.iloc[train_rows::, :]\n",
    "    X_train, Y_train = train[features], train['Y']\n",
    "    X_test, Y_test = test[features], test['Y']\n",
    "    \n",
    "    X_train = np.array(X_train) # Reformat\n",
    "    X_test = np.array(X_test)\n",
    "\n",
    "    X_tr_t = X_train.reshape(X_train.shape[0], 1, X_train.shape[1])\n",
    "    X_tst_t = X_test.reshape(X_test.shape[0], 1, X_test.shape[1])\n",
    "    \n",
    "    return X_tr_t, Y_train, X_tst_t, Y_test"
   ]
  },
  {
   "cell_type": "code",
   "execution_count": 90,
   "id": "6932579c",
   "metadata": {},
   "outputs": [],
   "source": [
    "split_ratio = 0.7\n",
    "X_train, Y_train, X_test, Y_test = train_test_split(msft_offset, split_ratio)"
   ]
  },
  {
   "cell_type": "markdown",
   "id": "cf0c33a5",
   "metadata": {},
   "source": [
    "### Build Model\n",
    "    Input layer -> Hidden Layer (16 Nodes) -> Output layer."
   ]
  },
  {
   "cell_type": "code",
   "execution_count": 91,
   "id": "7cb35703",
   "metadata": {
    "scrolled": true
   },
   "outputs": [],
   "source": [
    "K.clear_session()\n",
    "model = Sequential()\n",
    "model.add(LSTM(16, input_shape=(1, X_train.shape[2]), activation='relu', return_sequences=False))\n",
    "model.add(Dense(1)) \n",
    "model.compile(loss='mean_squared_error', optimizer='adam')\n",
    "early_stop = EarlyStopping(monitor='loss', patience=10, verbose=1)"
   ]
  },
  {
   "cell_type": "code",
   "execution_count": 92,
   "id": "54aef148",
   "metadata": {
    "scrolled": true
   },
   "outputs": [
    {
     "name": "stdout",
     "output_type": "stream",
     "text": [
      "Epoch 1/50\n",
      "813/813 [==============================] - 1s 664us/step - loss: 3.0661e-05\n",
      "Epoch 2/50\n",
      "813/813 [==============================] - 1s 663us/step - loss: 7.7670e-05\n",
      "Epoch 3/50\n",
      "813/813 [==============================] - 1s 666us/step - loss: 8.1684e-05\n",
      "Epoch 4/50\n",
      "813/813 [==============================] - 1s 674us/step - loss: 8.0828e-05\n",
      "Epoch 5/50\n",
      "813/813 [==============================] - 1s 675us/step - loss: 7.4205e-05\n",
      "Epoch 6/50\n",
      "813/813 [==============================] - 1s 669us/step - loss: 7.1485e-05\n",
      "Epoch 7/50\n",
      "813/813 [==============================] - 1s 667us/step - loss: 6.6925e-05\n",
      "Epoch 8/50\n",
      "813/813 [==============================] - 1s 667us/step - loss: 5.9130e-05\n",
      "Epoch 9/50\n",
      "813/813 [==============================] - 1s 666us/step - loss: 5.0326e-05\n",
      "Epoch 10/50\n",
      "813/813 [==============================] - 1s 669us/step - loss: 4.0963e-05\n",
      "Epoch 11/50\n",
      "813/813 [==============================] - 1s 663us/step - loss: 3.1935e-05\n",
      "Epoch 11: early stopping\n"
     ]
    },
    {
     "data": {
      "text/plain": [
       "<keras.callbacks.History at 0x1b1c196ca00>"
      ]
     },
     "execution_count": 92,
     "metadata": {},
     "output_type": "execute_result"
    }
   ],
   "source": [
    "model.fit(X_train, Y_train, epochs=50, batch_size=8, verbose=1, shuffle=False, callbacks=[early_stop])"
   ]
  },
  {
   "cell_type": "code",
   "execution_count": 93,
   "id": "a4985fb8",
   "metadata": {},
   "outputs": [
    {
     "name": "stdout",
     "output_type": "stream",
     "text": [
      "204/204 [==============================] - 0s 473us/step\n",
      "The R2 score on the Train set is:\t0.106\n",
      "88/88 [==============================] - 0s 460us/step\n",
      "The R2 score on the Test set is:\t0.455\n"
     ]
    }
   ],
   "source": [
    "Y_train_pred = model.predict(X_train)\n",
    "print(\"The R2 score on the Train set is:\\t{:0.3f}\".format(r2_score(Y_train, Y_train_pred)))\n",
    "r2_train = r2_score(Y_train, Y_train_pred)\n",
    "\n",
    "Y_test_pred = model.predict(X_test)\n",
    "print(\"The R2 score on the Test set is:\\t{:0.3f}\".format(r2_score(Y_test, Y_test_pred)))\n",
    "r2_test = r2_score(Y_test, Y_test_pred)"
   ]
  },
  {
   "cell_type": "code",
   "execution_count": 94,
   "id": "4bade87c",
   "metadata": {},
   "outputs": [
    {
     "name": "stdout",
     "output_type": "stream",
     "text": [
      "2786/2786 [==============================] - 1s 470us/step - loss: 0.0389\n"
     ]
    }
   ],
   "source": [
    "loss = model.evaluate(X_test, Y_test, batch_size=1)"
   ]
  },
  {
   "cell_type": "code",
   "execution_count": 95,
   "id": "8b7503d1",
   "metadata": {},
   "outputs": [
    {
     "name": "stderr",
     "output_type": "stream",
     "text": [
      "C:\\Users\\Kenta Sakai\\AppData\\Local\\Temp\\ipykernel_25500\\1943297921.py:4: SettingWithCopyWarning: \n",
      "A value is trying to be set on a copy of a slice from a DataFrame.\n",
      "Try using .loc[row_indexer,col_indexer] = value instead\n",
      "\n",
      "See the caveats in the documentation: https://pandas.pydata.org/pandas-docs/stable/user_guide/indexing.html#returning-a-view-versus-a-copy\n",
      "  final_df['Y_pred'] = Y_test_pred\n"
     ]
    },
    {
     "data": {
      "image/png": "[encoded data removed]",
      "text/plain": [
       "<Figure size 640x480 with 1 Axes>"
      ]
     },
     "metadata": {},
     "output_type": "display_data"
    }
   ],
   "source": [
    "# Add Y_test_pred to  \n",
    "train_rows = round(msft_offset.shape[0] * split_ratio)\n",
    "final_df = msft_offset.iloc[train_rows::, :]\n",
    "final_df['Y_pred'] = Y_test_pred\n",
    "\n",
    "# Plot\n",
    "plt.plot(final_df['Date'], final_df['Y_pred'], label = 'Prediction')\n",
    "plt.plot(final_df['Date'], final_df['Y'], label = 'True')\n",
    "plt.title(\"MSFT Stock Prediction\")\n",
    "plt.ylabel('Adjusted Price (Scaled)')\n",
    "plt.legend()\n",
    "plt.show()"
   ]
  },
  {
   "cell_type": "markdown",
   "id": "039f5e98",
   "metadata": {},
   "source": [
    "    The prediction is good at forecasting the stock price patterns, but tend to undervalue the stocks. This trend gets worse as time goes on, which is reasonable because it is a time series prediction. Because we are using the earliest 70% of the data to train the model, as we move further into the future, the less the training data reflects the test data, and so we see greater variance like the plot above."
   ]
  },
  {
   "cell_type": "markdown",
   "id": "bd9caa1a",
   "metadata": {},
   "source": [
    "## 2) Predicting next week's closing price "
   ]
  },
  {
   "cell_type": "code",
   "execution_count": 96,
   "id": "83d615f9",
   "metadata": {},
   "outputs": [],
   "source": [
    "msft_offset = offset_table(msft_norm, 5) # offset data by 5 days\n",
    "X_train, Y_train, X_test, Y_test = train_test_split(msft_offset, split_ratio)"
   ]
  },
  {
   "cell_type": "code",
   "execution_count": 97,
   "id": "ce25e404",
   "metadata": {
    "scrolled": true
   },
   "outputs": [
    {
     "name": "stdout",
     "output_type": "stream",
     "text": [
      "Epoch 1/50\n",
      "813/813 [==============================] - 1s 685us/step - loss: 2.6122e-05\n",
      "Epoch 2/50\n",
      "813/813 [==============================] - 1s 689us/step - loss: 2.1217e-05\n",
      "Epoch 3/50\n",
      "813/813 [==============================] - 1s 687us/step - loss: 1.8257e-05\n",
      "Epoch 4/50\n",
      "813/813 [==============================] - 1s 688us/step - loss: 1.5351e-05\n",
      "Epoch 5/50\n",
      "813/813 [==============================] - 1s 687us/step - loss: 1.4736e-05\n",
      "Epoch 6/50\n",
      "813/813 [==============================] - 1s 688us/step - loss: 1.2564e-05\n",
      "Epoch 7/50\n",
      "813/813 [==============================] - 1s 685us/step - loss: 1.2437e-05\n",
      "Epoch 8/50\n",
      "813/813 [==============================] - 1s 685us/step - loss: 1.1240e-05\n",
      "Epoch 9/50\n",
      "813/813 [==============================] - 1s 685us/step - loss: 1.1788e-05\n",
      "Epoch 10/50\n",
      "813/813 [==============================] - 1s 678us/step - loss: 1.0584e-05\n",
      "Epoch 11/50\n",
      "813/813 [==============================] - 1s 675us/step - loss: 1.1314e-05\n",
      "Epoch 12/50\n",
      "813/813 [==============================] - 1s 679us/step - loss: 1.0263e-05\n",
      "Epoch 13/50\n",
      "813/813 [==============================] - 1s 680us/step - loss: 1.1150e-05\n",
      "Epoch 14/50\n",
      "813/813 [==============================] - 1s 683us/step - loss: 1.0082e-05\n",
      "Epoch 15/50\n",
      "813/813 [==============================] - 1s 680us/step - loss: 1.0991e-05\n",
      "Epoch 16/50\n",
      "813/813 [==============================] - 1s 679us/step - loss: 9.9527e-06\n",
      "Epoch 17/50\n",
      "813/813 [==============================] - 1s 684us/step - loss: 1.0898e-05\n",
      "Epoch 18/50\n",
      "813/813 [==============================] - 1s 687us/step - loss: 9.8505e-06\n",
      "Epoch 19/50\n",
      "813/813 [==============================] - 1s 683us/step - loss: 1.0680e-05\n",
      "Epoch 20/50\n",
      "813/813 [==============================] - 1s 684us/step - loss: 9.7540e-06\n",
      "Epoch 21/50\n",
      "813/813 [==============================] - 1s 680us/step - loss: 1.0706e-05\n",
      "Epoch 22/50\n",
      "813/813 [==============================] - 1s 682us/step - loss: 9.6830e-06\n",
      "Epoch 23/50\n",
      "813/813 [==============================] - 1s 684us/step - loss: 1.0575e-05\n",
      "Epoch 24/50\n",
      "813/813 [==============================] - 1s 686us/step - loss: 9.5893e-06\n",
      "Epoch 25/50\n",
      "813/813 [==============================] - 1s 686us/step - loss: 1.0442e-05\n",
      "Epoch 26/50\n",
      "813/813 [==============================] - 1s 687us/step - loss: 9.5009e-06\n",
      "Epoch 27/50\n",
      "813/813 [==============================] - 1s 687us/step - loss: 1.0311e-05\n",
      "Epoch 28/50\n",
      "813/813 [==============================] - 1s 689us/step - loss: 9.4244e-06\n",
      "Epoch 29/50\n",
      "813/813 [==============================] - 1s 687us/step - loss: 1.0227e-05\n",
      "Epoch 30/50\n",
      "813/813 [==============================] - 1s 687us/step - loss: 9.3504e-06\n",
      "Epoch 31/50\n",
      "813/813 [==============================] - 1s 685us/step - loss: 1.0154e-05\n",
      "Epoch 32/50\n",
      "813/813 [==============================] - 1s 684us/step - loss: 9.2754e-06\n",
      "Epoch 33/50\n",
      "813/813 [==============================] - 1s 684us/step - loss: 1.0085e-05\n",
      "Epoch 34/50\n",
      "813/813 [==============================] - 1s 685us/step - loss: 9.1993e-06\n",
      "Epoch 35/50\n",
      "813/813 [==============================] - 1s 684us/step - loss: 1.0022e-05\n",
      "Epoch 36/50\n",
      "813/813 [==============================] - 1s 684us/step - loss: 9.1254e-06\n",
      "Epoch 37/50\n",
      "813/813 [==============================] - 1s 684us/step - loss: 9.9899e-06\n",
      "Epoch 38/50\n",
      "813/813 [==============================] - 1s 682us/step - loss: 9.0541e-06\n",
      "Epoch 39/50\n",
      "813/813 [==============================] - 1s 684us/step - loss: 9.7951e-06\n",
      "Epoch 40/50\n",
      "813/813 [==============================] - 1s 684us/step - loss: 8.9588e-06\n",
      "Epoch 41/50\n",
      "813/813 [==============================] - 1s 680us/step - loss: 9.7881e-06\n",
      "Epoch 42/50\n",
      "813/813 [==============================] - 1s 685us/step - loss: 8.9027e-06\n",
      "Epoch 43/50\n",
      "813/813 [==============================] - 1s 689us/step - loss: 9.6405e-06\n",
      "Epoch 44/50\n",
      "813/813 [==============================] - 1s 682us/step - loss: 8.8120e-06\n",
      "Epoch 45/50\n",
      "813/813 [==============================] - 1s 683us/step - loss: 9.5031e-06\n",
      "Epoch 46/50\n",
      "813/813 [==============================] - 1s 684us/step - loss: 8.7447e-06\n",
      "Epoch 47/50\n",
      "813/813 [==============================] - 1s 682us/step - loss: 9.5636e-06\n",
      "Epoch 48/50\n",
      "813/813 [==============================] - 1s 690us/step - loss: 8.6988e-06\n",
      "Epoch 49/50\n",
      "813/813 [==============================] - 1s 688us/step - loss: 9.4600e-06\n",
      "Epoch 50/50\n",
      "813/813 [==============================] - 1s 680us/step - loss: 8.6199e-06\n"
     ]
    },
    {
     "data": {
      "text/plain": [
       "<keras.callbacks.History at 0x1b1c1290610>"
      ]
     },
     "execution_count": 97,
     "metadata": {},
     "output_type": "execute_result"
    }
   ],
   "source": [
    "model.fit(X_train, Y_train, epochs=50, batch_size=8, verbose=1, shuffle=False, callbacks=[early_stop])"
   ]
  },
  {
   "cell_type": "code",
   "execution_count": 98,
   "id": "f5938a49",
   "metadata": {},
   "outputs": [
    {
     "name": "stdout",
     "output_type": "stream",
     "text": [
      "204/204 [==============================] - 0s 488us/step\n",
      "The R2 score on the Train set is:\t0.713\n",
      "88/88 [==============================] - 0s 483us/step\n",
      "The R2 score on the Test set is:\t0.324\n"
     ]
    }
   ],
   "source": [
    "Y_train_pred = model.predict(X_train)\n",
    "print(\"The R2 score on the Train set is:\\t{:0.3f}\".format(r2_score(Y_train, Y_train_pred)))\n",
    "r2_train = r2_score(Y_train, Y_train_pred)\n",
    "\n",
    "Y_test_pred = model.predict(X_test)\n",
    "print(\"The R2 score on the Test set is:\\t{:0.3f}\".format(r2_score(Y_test, Y_test_pred)))\n",
    "r2_test = r2_score(Y_test, Y_test_pred)"
   ]
  },
  {
   "cell_type": "code",
   "execution_count": 99,
   "id": "0129b159",
   "metadata": {},
   "outputs": [
    {
     "name": "stdout",
     "output_type": "stream",
     "text": [
      "2785/2785 [==============================] - 1s 468us/step - loss: 0.0483\n"
     ]
    }
   ],
   "source": [
    "loss = model.evaluate(X_test, Y_test, batch_size=1)"
   ]
  },
  {
   "cell_type": "code",
   "execution_count": 100,
   "id": "079dc109",
   "metadata": {
    "scrolled": false
   },
   "outputs": [
    {
     "name": "stderr",
     "output_type": "stream",
     "text": [
      "C:\\Users\\Kenta Sakai\\AppData\\Local\\Temp\\ipykernel_25500\\1943297921.py:4: SettingWithCopyWarning: \n",
      "A value is trying to be set on a copy of a slice from a DataFrame.\n",
      "Try using .loc[row_indexer,col_indexer] = value instead\n",
      "\n",
      "See the caveats in the documentation: https://pandas.pydata.org/pandas-docs/stable/user_guide/indexing.html#returning-a-view-versus-a-copy\n",
      "  final_df['Y_pred'] = Y_test_pred\n"
     ]
    },
    {
     "data": {
      "image/png": "[encoded data removed]",
      "text/plain": [
       "<Figure size 640x480 with 1 Axes>"
      ]
     },
     "metadata": {},
     "output_type": "display_data"
    }
   ],
   "source": [
    "# Add Y_test_pred to  \n",
    "train_rows = round(msft_offset.shape[0] * split_ratio)\n",
    "final_df = msft_offset.iloc[train_rows::, :]\n",
    "final_df['Y_pred'] = Y_test_pred\n",
    "\n",
    "# Plot\n",
    "plt.plot(final_df['Date'], final_df['Y_pred'], label = 'Prediction')\n",
    "plt.plot(final_df['Date'], final_df['Y'], label = 'True')\n",
    "plt.title(\"MSFT Stock Prediction\")\n",
    "plt.ylabel('Adjusted Price (Scaled)')\n",
    "plt.legend()\n",
    "plt.show()"
   ]
  },
  {
   "cell_type": "markdown",
   "id": "12d1ac9d",
   "metadata": {},
   "source": [
    "    Predicting stock prices one week in the future is a bit more difficult. The issue we saw previously is more pronounced, but the model is still able to predicts patterns accurately."
   ]
  },
  {
   "cell_type": "markdown",
   "id": "30a684a2",
   "metadata": {},
   "source": [
    "## 3) AAPL Stock Forecast "
   ]
  },
  {
   "cell_type": "code",
   "execution_count": 413,
   "id": "9df46e38",
   "metadata": {},
   "outputs": [
    {
     "name": "stdout",
     "output_type": "stream",
     "text": [
      "[*********************100%***********************]  1 of 1 completed\n"
     ]
    }
   ],
   "source": [
    "full_df = yf.download(\"AAPL\")"
   ]
  },
  {
   "cell_type": "markdown",
   "id": "a6458d4e",
   "metadata": {},
   "source": []
  },
  {
   "cell_type": "code",
   "execution_count": 414,
   "id": "e70f7274",
   "metadata": {},
   "outputs": [],
   "source": [
    "# Split data into train vs test\n",
    "n_days = 30 # Forecast closing price n days into the future\n",
    "\n",
    "numrows_train = round(0.65 * full_df.shape[0])\n",
    "train_df = full_df[0:numrows_train]\n",
    "test_df = full_df[numrows_train:]"
   ]
  },
  {
   "cell_type": "code",
   "execution_count": 415,
   "id": "ece93f70",
   "metadata": {},
   "outputs": [],
   "source": [
    "# Normalize Data between 0 and 1 \n",
    "scaler = MinMaxScaler(feature_range = (0,1))\n",
    "adj_close_scaled = scaler.fit_transform(train_df['Adj Close'].values.reshape(-1,1))"
   ]
  },
  {
   "cell_type": "code",
   "execution_count": 416,
   "id": "86c39286",
   "metadata": {},
   "outputs": [],
   "source": [
    "# Formatting train data\n",
    "\n",
    "x_train = []\n",
    "y_train = []\n",
    "\n",
    "for i in range(n_days, len(adj_close_scaled)):\n",
    "    x_train.append(adj_close_scaled[i-n_days:i])\n",
    "    y_train.append(adj_close_scaled[i,0])\n",
    "\n",
    "x_train, y_train = np.array(x_train), np.array(y_train)"
   ]
  },
  {
   "cell_type": "code",
   "execution_count": 417,
   "id": "43361bb3",
   "metadata": {},
   "outputs": [],
   "source": [
    "K.clear_session()\n",
    "model = Sequential()\n",
    "    \n",
    "model.add(LSTM(units = 50, return_sequences = True, input_shape = (x_train.shape[1],1)))\n",
    "model.add(Dropout(0.2))\n",
    "\n",
    "model.add(LSTM(units = 50, return_sequences = True))\n",
    "model.add(Dropout(0.2))\n",
    "\n",
    "model.add(LSTM(units = 50))\n",
    "model.add(Dropout(0.2))\n",
    "\n",
    "model.add(Dense(units=1))\n",
    "\n",
    "model.compile(loss='mean_squared_error', optimizer='adam')\n",
    "early_stop = EarlyStopping(monitor='loss', patience=10, verbose=1)"
   ]
  },
  {
   "cell_type": "code",
   "execution_count": 418,
   "id": "9f128083",
   "metadata": {},
   "outputs": [
    {
     "name": "stdout",
     "output_type": "stream",
     "text": [
      "Epoch 1/12\n",
      "213/215 [============================>.] - ETA: 0s - loss: 0.0018WARNING:tensorflow:Can save best model only with val_loss available, skipping.\n",
      "215/215 [==============================] - 5s 12ms/step - loss: 0.0018\n",
      "Epoch 2/12\n",
      "213/215 [============================>.] - ETA: 0s - loss: 6.3758e-04WARNING:tensorflow:Can save best model only with val_loss available, skipping.\n",
      "215/215 [==============================] - 3s 12ms/step - loss: 6.4018e-04\n",
      "Epoch 3/12\n",
      "211/215 [============================>.] - ETA: 0s - loss: 6.4156e-04WARNING:tensorflow:Can save best model only with val_loss available, skipping.\n",
      "215/215 [==============================] - 3s 12ms/step - loss: 6.4641e-04\n",
      "Epoch 4/12\n",
      "215/215 [==============================] - ETA: 0s - loss: 4.6986e-04WARNING:tensorflow:Can save best model only with val_loss available, skipping.\n",
      "215/215 [==============================] - 3s 12ms/step - loss: 4.6986e-04\n",
      "Epoch 5/12\n",
      "211/215 [============================>.] - ETA: 0s - loss: 4.7487e-04WARNING:tensorflow:Can save best model only with val_loss available, skipping.\n",
      "215/215 [==============================] - 3s 12ms/step - loss: 4.7294e-04\n",
      "Epoch 6/12\n",
      "215/215 [==============================] - ETA: 0s - loss: 3.5426e-04WARNING:tensorflow:Can save best model only with val_loss available, skipping.\n",
      "215/215 [==============================] - 3s 12ms/step - loss: 3.5426e-04\n",
      "Epoch 7/12\n",
      "211/215 [============================>.] - ETA: 0s - loss: 3.6768e-04WARNING:tensorflow:Can save best model only with val_loss available, skipping.\n",
      "215/215 [==============================] - 3s 12ms/step - loss: 3.6544e-04\n",
      "Epoch 8/12\n",
      "215/215 [==============================] - ETA: 0s - loss: 4.1509e-04WARNING:tensorflow:Can save best model only with val_loss available, skipping.\n",
      "215/215 [==============================] - 3s 12ms/step - loss: 4.1509e-04\n",
      "Epoch 9/12\n",
      "211/215 [============================>.] - ETA: 0s - loss: 3.7367e-04WARNING:tensorflow:Can save best model only with val_loss available, skipping.\n",
      "215/215 [==============================] - 3s 12ms/step - loss: 3.7887e-04\n",
      "Epoch 10/12\n",
      "214/215 [============================>.] - ETA: 0s - loss: 3.5206e-04WARNING:tensorflow:Can save best model only with val_loss available, skipping.\n",
      "215/215 [==============================] - 3s 12ms/step - loss: 3.5140e-04\n",
      "Epoch 11/12\n",
      "211/215 [============================>.] - ETA: 0s - loss: 3.5087e-04WARNING:tensorflow:Can save best model only with val_loss available, skipping.\n",
      "215/215 [==============================] - 3s 12ms/step - loss: 3.4702e-04\n",
      "Epoch 12/12\n",
      "211/215 [============================>.] - ETA: 0s - loss: 3.4378e-04WARNING:tensorflow:Can save best model only with val_loss available, skipping.\n",
      "215/215 [==============================] - 3s 12ms/step - loss: 3.4171e-04\n"
     ]
    },
    {
     "data": {
      "text/plain": [
       "<keras.callbacks.History at 0x1b1feed2190>"
      ]
     },
     "execution_count": 418,
     "metadata": {},
     "output_type": "execute_result"
    }
   ],
   "source": [
    "model.fit(x_train, y_train, epochs=12, \n",
    "          batch_size = 32, callbacks = [checkpointer])"
   ]
  },
  {
   "cell_type": "code",
   "execution_count": 419,
   "id": "ec3d94b6",
   "metadata": {},
   "outputs": [],
   "source": [
    "# Normalize test data between 0 and 1 \n",
    "adj_close_scaled = scaler.transform(test_df['Adj Close'].values.reshape(-1,1))\n",
    "\n",
    "# Format test data\n",
    "x_test = []\n",
    "\n",
    "for i in range(n_days, len(adj_close_scaled)):\n",
    "    x_test.append(adj_close_scaled[i-n_days:i])\n",
    "\n",
    "x_test = np.array(x_test)"
   ]
  },
  {
   "cell_type": "code",
   "execution_count": 420,
   "id": "760a0f3f",
   "metadata": {},
   "outputs": [
    {
     "name": "stdout",
     "output_type": "stream",
     "text": [
      "116/116 [==============================] - 1s 4ms/step\n"
     ]
    }
   ],
   "source": [
    "predicted_prices = model.predict(x_test)\n",
    "predicted_prices = scaler.inverse_transform(predicted_prices)\n"
   ]
  },
  {
   "cell_type": "code",
   "execution_count": 424,
   "id": "fc5f3232",
   "metadata": {},
   "outputs": [
    {
     "data": {
      "text/plain": [
       "3685"
      ]
     },
     "execution_count": 424,
     "metadata": {},
     "output_type": "execute_result"
    }
   ],
   "source": [
    "aapl_train"
   ]
  },
  {
   "cell_type": "code",
   "execution_count": 421,
   "id": "faf5d5d9",
   "metadata": {},
   "outputs": [
    {
     "data": {
      "image/png": "[encoded data removed]",
      "text/plain": [
       "<Figure size 640x480 with 1 Axes>"
      ]
     },
     "metadata": {},
     "output_type": "display_data"
    }
   ],
   "source": [
    "plt.plot(predicted_prices, label = 'pred')\n",
    "plt.plot(aapl_test['Adj Close'].values, label = 'true')\n",
    "plt.legend()\n",
    "plt.show()"
   ]
  },
  {
   "cell_type": "code",
   "execution_count": 422,
   "id": "322e352b",
   "metadata": {},
   "outputs": [
    {
     "ename": "SyntaxError",
     "evalue": "invalid syntax (2344930127.py, line 1)",
     "output_type": "error",
     "traceback": [
      "\u001b[1;36m  File \u001b[1;32m\"C:\\Users\\Kenta Sakai\\AppData\\Local\\Temp\\ipykernel_25500\\2344930127.py\"\u001b[1;36m, line \u001b[1;32m1\u001b[0m\n\u001b[1;33m    The model was able to predict the earlier prices of AAPL stocks pretty well.\u001b[0m\n\u001b[1;37m        ^\u001b[0m\n\u001b[1;31mSyntaxError\u001b[0m\u001b[1;31m:\u001b[0m invalid syntax\n"
     ]
    }
   ],
   "source": [
    "The model was able to predict the earlier prices of AAPL stocks pretty well."
   ]
  }
 ],
 "metadata": {
  "kernelspec": {
   "display_name": "Python 3 (ipykernel)",
   "language": "python",
   "name": "python3"
  },
  "language_info": {
   "codemirror_mode": {
    "name": "ipython",
    "version": 3
   },
   "file_extension": ".py",
   "mimetype": "text/x-python",
   "name": "python",
   "nbconvert_exporter": "python",
   "pygments_lexer": "ipython3",
   "version": "3.9.13"
  }
 },
 "nbformat": 4,
 "nbformat_minor": 5
}
