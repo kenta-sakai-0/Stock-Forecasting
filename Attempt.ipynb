{
 "cells": [
  {
   "cell_type": "markdown",
   "id": "071eddaa",
   "metadata": {},
   "source": [
    "# Microsoft Stock Price Prediction"
   ]
  },
  {
   "cell_type": "code",
   "execution_count": 1,
   "id": "9f23b655",
   "metadata": {},
   "outputs": [],
   "source": [
    "import pandas as pd\n",
    "import numpy as np\n",
    "%matplotlib inline\n",
    "import matplotlib.pyplot as plt\n",
    "import matplotlib\n",
    "from sklearn.preprocessing import MinMaxScaler\n",
    "from sklearn.model_selection import TimeSeriesSplit\n",
    "from sklearn.metrics import mean_squared_error, r2_score\n",
    "from sklearn import linear_model\n",
    "import matplotlib.dates as mdates\n",
    "from scipy.stats import pearsonr\n",
    "\n",
    "from keras.models import Sequential\n",
    "from keras.layers import Dense\n",
    "import keras.backend as K\n",
    "from keras.callbacks import EarlyStopping\n",
    "from keras.optimizers import Adam\n",
    "from keras.models import load_model\n",
    "from keras.layers import LSTM"
   ]
  },
  {
   "cell_type": "markdown",
   "id": "9f67013d",
   "metadata": {},
   "source": [
    "### Preprocessing"
   ]
  },
  {
   "cell_type": "code",
   "execution_count": 2,
   "id": "d36461cb",
   "metadata": {},
   "outputs": [
    {
     "data": {
      "text/html": [
       "<div>\n",
       "<style scoped>\n",
       "    .dataframe tbody tr th:only-of-type {\n",
       "        vertical-align: middle;\n",
       "    }\n",
       "\n",
       "    .dataframe tbody tr th {\n",
       "        vertical-align: top;\n",
       "    }\n",
       "\n",
       "    .dataframe thead th {\n",
       "        text-align: right;\n",
       "    }\n",
       "</style>\n",
       "<table border=\"1\" class=\"dataframe\">\n",
       "  <thead>\n",
       "    <tr style=\"text-align: right;\">\n",
       "      <th></th>\n",
       "      <th>Date</th>\n",
       "      <th>Open</th>\n",
       "      <th>High</th>\n",
       "      <th>Low</th>\n",
       "      <th>Close</th>\n",
       "      <th>Adj Close</th>\n",
       "      <th>Volume</th>\n",
       "    </tr>\n",
       "  </thead>\n",
       "  <tbody>\n",
       "    <tr>\n",
       "      <th>0</th>\n",
       "      <td>1990-01-02</td>\n",
       "      <td>0.605903</td>\n",
       "      <td>0.616319</td>\n",
       "      <td>0.598090</td>\n",
       "      <td>0.616319</td>\n",
       "      <td>0.447268</td>\n",
       "      <td>53033600</td>\n",
       "    </tr>\n",
       "    <tr>\n",
       "      <th>1</th>\n",
       "      <td>1990-01-03</td>\n",
       "      <td>0.621528</td>\n",
       "      <td>0.626736</td>\n",
       "      <td>0.614583</td>\n",
       "      <td>0.619792</td>\n",
       "      <td>0.449788</td>\n",
       "      <td>113772800</td>\n",
       "    </tr>\n",
       "    <tr>\n",
       "      <th>2</th>\n",
       "      <td>1990-01-04</td>\n",
       "      <td>0.619792</td>\n",
       "      <td>0.638889</td>\n",
       "      <td>0.616319</td>\n",
       "      <td>0.638021</td>\n",
       "      <td>0.463017</td>\n",
       "      <td>125740800</td>\n",
       "    </tr>\n",
       "    <tr>\n",
       "      <th>3</th>\n",
       "      <td>1990-01-05</td>\n",
       "      <td>0.635417</td>\n",
       "      <td>0.638889</td>\n",
       "      <td>0.621528</td>\n",
       "      <td>0.622396</td>\n",
       "      <td>0.451678</td>\n",
       "      <td>69564800</td>\n",
       "    </tr>\n",
       "    <tr>\n",
       "      <th>4</th>\n",
       "      <td>1990-01-08</td>\n",
       "      <td>0.621528</td>\n",
       "      <td>0.631944</td>\n",
       "      <td>0.614583</td>\n",
       "      <td>0.631944</td>\n",
       "      <td>0.458607</td>\n",
       "      <td>58982400</td>\n",
       "    </tr>\n",
       "  </tbody>\n",
       "</table>\n",
       "</div>"
      ],
      "text/plain": [
       "        Date      Open      High       Low     Close  Adj Close     Volume\n",
       "0 1990-01-02  0.605903  0.616319  0.598090  0.616319   0.447268   53033600\n",
       "1 1990-01-03  0.621528  0.626736  0.614583  0.619792   0.449788  113772800\n",
       "2 1990-01-04  0.619792  0.638889  0.616319  0.638021   0.463017  125740800\n",
       "3 1990-01-05  0.635417  0.638889  0.621528  0.622396   0.451678   69564800\n",
       "4 1990-01-08  0.621528  0.631944  0.614583  0.631944   0.458607   58982400"
      ]
     },
     "execution_count": 2,
     "metadata": {},
     "output_type": "execute_result"
    }
   ],
   "source": [
    "# Import Microsoft stock price dataset\n",
    "msft = pd.read_csv('MSFT.csv')\n",
    "msft['Date'] = pd.to_datetime(msft['Date'])\n",
    "msft.head()"
   ]
  },
  {
   "cell_type": "markdown",
   "id": "2e0a2aa5",
   "metadata": {},
   "source": [
    "### Normalize the Data (between 0 and 1)"
   ]
  },
  {
   "cell_type": "code",
   "execution_count": 3,
   "id": "f5420a76",
   "metadata": {},
   "outputs": [
    {
     "data": {
      "text/html": [
       "<div>\n",
       "<style scoped>\n",
       "    .dataframe tbody tr th:only-of-type {\n",
       "        vertical-align: middle;\n",
       "    }\n",
       "\n",
       "    .dataframe tbody tr th {\n",
       "        vertical-align: top;\n",
       "    }\n",
       "\n",
       "    .dataframe thead th {\n",
       "        text-align: right;\n",
       "    }\n",
       "</style>\n",
       "<table border=\"1\" class=\"dataframe\">\n",
       "  <thead>\n",
       "    <tr style=\"text-align: right;\">\n",
       "      <th></th>\n",
       "      <th>Date</th>\n",
       "      <th>Open</th>\n",
       "      <th>High</th>\n",
       "      <th>Low</th>\n",
       "      <th>Close</th>\n",
       "      <th>Adj Close</th>\n",
       "      <th>Volume</th>\n",
       "    </tr>\n",
       "  </thead>\n",
       "  <tbody>\n",
       "    <tr>\n",
       "      <th>0</th>\n",
       "      <td>1990-01-02</td>\n",
       "      <td>0.000129</td>\n",
       "      <td>0.000105</td>\n",
       "      <td>0.000129</td>\n",
       "      <td>0.616319</td>\n",
       "      <td>0.000115</td>\n",
       "      <td>53033600</td>\n",
       "    </tr>\n",
       "    <tr>\n",
       "      <th>1</th>\n",
       "      <td>1990-01-03</td>\n",
       "      <td>0.000265</td>\n",
       "      <td>0.000195</td>\n",
       "      <td>0.000273</td>\n",
       "      <td>0.619792</td>\n",
       "      <td>0.000137</td>\n",
       "      <td>113772800</td>\n",
       "    </tr>\n",
       "    <tr>\n",
       "      <th>2</th>\n",
       "      <td>1990-01-04</td>\n",
       "      <td>0.000249</td>\n",
       "      <td>0.000300</td>\n",
       "      <td>0.000288</td>\n",
       "      <td>0.638021</td>\n",
       "      <td>0.000253</td>\n",
       "      <td>125740800</td>\n",
       "    </tr>\n",
       "    <tr>\n",
       "      <th>3</th>\n",
       "      <td>1990-01-05</td>\n",
       "      <td>0.000386</td>\n",
       "      <td>0.000300</td>\n",
       "      <td>0.000334</td>\n",
       "      <td>0.622396</td>\n",
       "      <td>0.000154</td>\n",
       "      <td>69564800</td>\n",
       "    </tr>\n",
       "    <tr>\n",
       "      <th>4</th>\n",
       "      <td>1990-01-08</td>\n",
       "      <td>0.000265</td>\n",
       "      <td>0.000240</td>\n",
       "      <td>0.000273</td>\n",
       "      <td>0.631944</td>\n",
       "      <td>0.000214</td>\n",
       "      <td>58982400</td>\n",
       "    </tr>\n",
       "  </tbody>\n",
       "</table>\n",
       "</div>"
      ],
      "text/plain": [
       "        Date      Open      High       Low     Close  Adj Close     Volume\n",
       "0 1990-01-02  0.000129  0.000105  0.000129  0.616319   0.000115   53033600\n",
       "1 1990-01-03  0.000265  0.000195  0.000273  0.619792   0.000137  113772800\n",
       "2 1990-01-04  0.000249  0.000300  0.000288  0.638021   0.000253  125740800\n",
       "3 1990-01-05  0.000386  0.000300  0.000334  0.622396   0.000154   69564800\n",
       "4 1990-01-08  0.000265  0.000240  0.000273  0.631944   0.000214   58982400"
      ]
     },
     "execution_count": 3,
     "metadata": {},
     "output_type": "execute_result"
    }
   ],
   "source": [
    "msft_norm = msft.copy()\n",
    "scaler = MinMaxScaler(feature_range = (0,1))\n",
    "msft_norm[['Open', 'High', 'Low', 'Adj Close']] = scaler.fit_transform(msft_norm[['Open', 'High', 'Low', 'Adj Close']])\n",
    "msft_norm.head()"
   ]
  },
  {
   "cell_type": "markdown",
   "id": "8202112a",
   "metadata": {},
   "source": [
    "# 1) Predicting tomorrow's closing price"
   ]
  },
  {
   "cell_type": "code",
   "execution_count": 4,
   "id": "f4a84f1a",
   "metadata": {},
   "outputs": [],
   "source": [
    "features = ['Open', 'High', 'Low', 'Adj Close']\n",
    "\n",
    "def offset_table(df, days):\n",
    "    # Input: dataframe and days \n",
    "    # Output: The same dataframe, but with an extra Y column. The Y column is 'Adj Close' from the same table, but n days in advance\n",
    "\n",
    "    x_temp = df[:-days].reset_index()[features]\n",
    "    y_temp = df[days:].reset_index()['Adj Close']\n",
    "\n",
    "    result = x_temp.join(y_temp, rsuffix='Y')\n",
    "    result.rename({'Adj CloseY':'Y'}, axis='columns', inplace=True)\n",
    "    return result"
   ]
  },
  {
   "cell_type": "code",
   "execution_count": 5,
   "id": "a185a01d",
   "metadata": {},
   "outputs": [
    {
     "data": {
      "text/html": [
       "<div>\n",
       "<style scoped>\n",
       "    .dataframe tbody tr th:only-of-type {\n",
       "        vertical-align: middle;\n",
       "    }\n",
       "\n",
       "    .dataframe tbody tr th {\n",
       "        vertical-align: top;\n",
       "    }\n",
       "\n",
       "    .dataframe thead th {\n",
       "        text-align: right;\n",
       "    }\n",
       "</style>\n",
       "<table border=\"1\" class=\"dataframe\">\n",
       "  <thead>\n",
       "    <tr style=\"text-align: right;\">\n",
       "      <th></th>\n",
       "      <th>Open</th>\n",
       "      <th>High</th>\n",
       "      <th>Low</th>\n",
       "      <th>Adj Close</th>\n",
       "      <th>Y</th>\n",
       "    </tr>\n",
       "  </thead>\n",
       "  <tbody>\n",
       "    <tr>\n",
       "      <th>0</th>\n",
       "      <td>0.000129</td>\n",
       "      <td>0.000105</td>\n",
       "      <td>0.000129</td>\n",
       "      <td>0.000115</td>\n",
       "      <td>0.000137</td>\n",
       "    </tr>\n",
       "    <tr>\n",
       "      <th>1</th>\n",
       "      <td>0.000265</td>\n",
       "      <td>0.000195</td>\n",
       "      <td>0.000273</td>\n",
       "      <td>0.000137</td>\n",
       "      <td>0.000253</td>\n",
       "    </tr>\n",
       "    <tr>\n",
       "      <th>2</th>\n",
       "      <td>0.000249</td>\n",
       "      <td>0.000300</td>\n",
       "      <td>0.000288</td>\n",
       "      <td>0.000253</td>\n",
       "      <td>0.000154</td>\n",
       "    </tr>\n",
       "    <tr>\n",
       "      <th>3</th>\n",
       "      <td>0.000386</td>\n",
       "      <td>0.000300</td>\n",
       "      <td>0.000334</td>\n",
       "      <td>0.000154</td>\n",
       "      <td>0.000214</td>\n",
       "    </tr>\n",
       "    <tr>\n",
       "      <th>4</th>\n",
       "      <td>0.000265</td>\n",
       "      <td>0.000240</td>\n",
       "      <td>0.000273</td>\n",
       "      <td>0.000214</td>\n",
       "      <td>0.000203</td>\n",
       "    </tr>\n",
       "  </tbody>\n",
       "</table>\n",
       "</div>"
      ],
      "text/plain": [
       "       Open      High       Low  Adj Close         Y\n",
       "0  0.000129  0.000105  0.000129   0.000115  0.000137\n",
       "1  0.000265  0.000195  0.000273   0.000137  0.000253\n",
       "2  0.000249  0.000300  0.000288   0.000253  0.000154\n",
       "3  0.000386  0.000300  0.000334   0.000154  0.000214\n",
       "4  0.000265  0.000240  0.000273   0.000214  0.000203"
      ]
     },
     "execution_count": 5,
     "metadata": {},
     "output_type": "execute_result"
    }
   ],
   "source": [
    "msft_offset = offset_table(msft_norm, 1)\n",
    "msft_offset.head()"
   ]
  },
  {
   "cell_type": "code",
   "execution_count": 6,
   "id": "f63777f9",
   "metadata": {},
   "outputs": [
    {
     "data": {
      "text/plain": [
       "PearsonRResult(statistic=0.9898373674470199, pvalue=0.0)"
      ]
     },
     "execution_count": 6,
     "metadata": {},
     "output_type": "execute_result"
    }
   ],
   "source": [
    "# Pearson R coefficient\n",
    "pearsonr(msft_offset['Low'], msft_offset['Y'])"
   ]
  },
  {
   "cell_type": "markdown",
   "id": "2c0c1d7b",
   "metadata": {},
   "source": [
    "    The above cell calculates the Pearson R coefficient between OHLC and Adj Close for the next day. As expected, there is a strong correlation between the yesterday's OHLC numbers and tomorrow's closing stock prices"
   ]
  },
  {
   "cell_type": "markdown",
   "id": "bacc8f8a",
   "metadata": {},
   "source": [
    "### Split into train and test"
   ]
  },
  {
   "cell_type": "code",
   "execution_count": 7,
   "id": "a0410c1f",
   "metadata": {},
   "outputs": [],
   "source": [
    "def train_test_split(df, train_ratio):\n",
    "    # Input: Takes df; table and train_ratio; an int between 0 and 1 representing the ratio of train:test\n",
    "\n",
    "    train_rows = round(df.shape[0] * train_ratio) # num of rows to train vs test\n",
    "    \n",
    "    train = df.iloc[0:train_rows, :]  # Splitting the data\n",
    "    test = df.iloc[train_rows::, :]\n",
    "    X_train, Y_train = train[features], train['Y']\n",
    "    X_test, Y_test = test[features], test['Y']\n",
    "    \n",
    "    X_train = np.array(X_train) # Reformat\n",
    "    X_test = np.array(X_test)\n",
    "\n",
    "    X_tr_t = X_train.reshape(X_train.shape[0], 1, X_train.shape[1])\n",
    "    X_tst_t = X_test.reshape(X_test.shape[0], 1, X_test.shape[1])\n",
    "    \n",
    "    return X_tr_t, Y_train, X_tst_t, Y_test"
   ]
  },
  {
   "cell_type": "code",
   "execution_count": 8,
   "id": "6932579c",
   "metadata": {},
   "outputs": [],
   "source": [
    "X_train, Y_train, X_test, Y_test = train_test_split(msft_offset, 0.6)"
   ]
  },
  {
   "cell_type": "markdown",
   "id": "cf0c33a5",
   "metadata": {},
   "source": [
    "### Build Model\n",
    "    Input layer -> Hidden Layer (16 Nodes) -> Output layer."
   ]
  },
  {
   "cell_type": "code",
   "execution_count": 9,
   "id": "7cb35703",
   "metadata": {
    "scrolled": true
   },
   "outputs": [],
   "source": [
    "K.clear_session()\n",
    "model = Sequential()\n",
    "model.add(LSTM(16, input_shape=(1, X_train.shape[2]), activation='relu', return_sequences=False))\n",
    "model.add(Dense(1)) \n",
    "model.compile(loss='mean_squared_error', optimizer='adam')\n",
    "early_stop = EarlyStopping(monitor='loss', patience=5, verbose=1)"
   ]
  },
  {
   "cell_type": "code",
   "execution_count": 10,
   "id": "54aef148",
   "metadata": {
    "scrolled": true
   },
   "outputs": [
    {
     "name": "stdout",
     "output_type": "stream",
     "text": [
      "Epoch 1/50\n",
      "550/550 [==============================] - 1s 643us/step - loss: 1.3244e-04\n",
      "Epoch 2/50\n",
      "550/550 [==============================] - 0s 634us/step - loss: 4.5284e-04\n",
      "Epoch 3/50\n",
      "550/550 [==============================] - 0s 626us/step - loss: 2.2767e-04\n",
      "Epoch 4/50\n",
      "550/550 [==============================] - 0s 626us/step - loss: 1.0183e-04\n",
      "Epoch 5/50\n",
      "550/550 [==============================] - 0s 642us/step - loss: 5.0212e-05\n",
      "Epoch 6/50\n",
      "550/550 [==============================] - 0s 637us/step - loss: 3.2130e-05\n",
      "Epoch 7/50\n",
      "550/550 [==============================] - 0s 646us/step - loss: 2.7252e-05\n",
      "Epoch 8/50\n",
      "550/550 [==============================] - 0s 640us/step - loss: 2.4710e-05\n",
      "Epoch 9/50\n",
      "550/550 [==============================] - 0s 640us/step - loss: 2.4659e-05\n",
      "Epoch 10/50\n",
      "550/550 [==============================] - 0s 655us/step - loss: 2.3500e-05\n",
      "Epoch 11/50\n",
      "550/550 [==============================] - 0s 651us/step - loss: 2.4203e-05\n",
      "Epoch 12/50\n",
      "550/550 [==============================] - 0s 638us/step - loss: 2.3098e-05\n",
      "Epoch 13/50\n",
      "550/550 [==============================] - 0s 642us/step - loss: 2.3762e-05\n",
      "Epoch 14/50\n",
      "550/550 [==============================] - 0s 651us/step - loss: 2.2530e-05\n",
      "Epoch 15/50\n",
      "550/550 [==============================] - 0s 656us/step - loss: 2.2734e-05\n",
      "Epoch 16/50\n",
      "550/550 [==============================] - 0s 645us/step - loss: 2.1690e-05\n",
      "Epoch 17/50\n",
      "550/550 [==============================] - 0s 649us/step - loss: 2.1778e-05\n",
      "Epoch 18/50\n",
      "550/550 [==============================] - 0s 625us/step - loss: 2.0791e-05\n",
      "Epoch 19/50\n",
      "550/550 [==============================] - 0s 629us/step - loss: 2.0888e-05\n",
      "Epoch 20/50\n",
      "550/550 [==============================] - 0s 640us/step - loss: 2.0023e-05\n",
      "Epoch 21/50\n",
      "550/550 [==============================] - 0s 642us/step - loss: 2.0108e-05\n",
      "Epoch 22/50\n",
      "550/550 [==============================] - 0s 645us/step - loss: 1.9418e-05\n",
      "Epoch 23/50\n",
      "550/550 [==============================] - 0s 640us/step - loss: 1.9646e-05\n",
      "Epoch 24/50\n",
      "550/550 [==============================] - 0s 640us/step - loss: 1.9020e-05\n",
      "Epoch 25/50\n",
      "550/550 [==============================] - 0s 633us/step - loss: 1.9271e-05\n",
      "Epoch 26/50\n",
      "550/550 [==============================] - 0s 636us/step - loss: 1.8757e-05\n",
      "Epoch 27/50\n",
      "550/550 [==============================] - 0s 629us/step - loss: 1.9074e-05\n",
      "Epoch 28/50\n",
      "550/550 [==============================] - 0s 624us/step - loss: 1.8615e-05\n",
      "Epoch 29/50\n",
      "550/550 [==============================] - 0s 642us/step - loss: 1.8856e-05\n",
      "Epoch 30/50\n",
      "550/550 [==============================] - 0s 638us/step - loss: 1.8502e-05\n",
      "Epoch 31/50\n",
      "550/550 [==============================] - 0s 633us/step - loss: 1.8708e-05\n",
      "Epoch 32/50\n",
      "550/550 [==============================] - 0s 631us/step - loss: 1.8538e-05\n",
      "Epoch 33/50\n",
      "550/550 [==============================] - 0s 631us/step - loss: 1.8480e-05\n",
      "Epoch 34/50\n",
      "550/550 [==============================] - 0s 631us/step - loss: 1.8406e-05\n",
      "Epoch 35/50\n",
      "550/550 [==============================] - 0s 640us/step - loss: 1.8339e-05\n",
      "Epoch 36/50\n",
      "550/550 [==============================] - 0s 642us/step - loss: 1.8419e-05\n",
      "Epoch 37/50\n",
      "550/550 [==============================] - 0s 629us/step - loss: 1.8390e-05\n",
      "Epoch 38/50\n",
      "550/550 [==============================] - 0s 631us/step - loss: 1.8369e-05\n",
      "Epoch 39/50\n",
      "550/550 [==============================] - 0s 627us/step - loss: 1.8345e-05\n",
      "Epoch 40/50\n",
      "550/550 [==============================] - 0s 633us/step - loss: 1.8460e-05\n",
      "Epoch 40: early stopping\n"
     ]
    },
    {
     "data": {
      "text/plain": [
       "<keras.callbacks.History at 0x24a381441f0>"
      ]
     },
     "execution_count": 10,
     "metadata": {},
     "output_type": "execute_result"
    }
   ],
   "source": [
    "model.fit(X_train, Y_train, epochs=50, batch_size=8, verbose=1, shuffle=False, callbacks=[early_stop])"
   ]
  },
  {
   "cell_type": "code",
   "execution_count": 11,
   "id": "a4985fb8",
   "metadata": {},
   "outputs": [
    {
     "name": "stdout",
     "output_type": "stream",
     "text": [
      "138/138 [==============================] - 0s 497us/step\n",
      "The R2 score on the Train set is:\t0.994\n",
      "92/92 [==============================] - 0s 473us/step\n",
      "The R2 score on the Test set is:\t0.748\n"
     ]
    }
   ],
   "source": [
    "Y_train_pred = model.predict(X_train)\n",
    "print(\"The R2 score on the Train set is:\\t{:0.3f}\".format(r2_score(Y_train, Y_train_pred)))\n",
    "r2_train = r2_score(Y_train, Y_train_pred)\n",
    "\n",
    "Y_test_pred = model.predict(X_test)\n",
    "print(\"The R2 score on the Test set is:\\t{:0.3f}\".format(r2_score(Y_test, Y_test_pred)))\n",
    "r2_test = r2_score(Y_test, Y_test_pred)"
   ]
  },
  {
   "cell_type": "code",
   "execution_count": 12,
   "id": "4bade87c",
   "metadata": {},
   "outputs": [
    {
     "name": "stdout",
     "output_type": "stream",
     "text": [
      "2933/2933 [==============================] - 1s 449us/step - loss: 0.0121\n"
     ]
    }
   ],
   "source": [
    "loss = model.evaluate(X_test, Y_test, batch_size=1)"
   ]
  },
  {
   "cell_type": "code",
   "execution_count": 13,
   "id": "c8e22033",
   "metadata": {},
   "outputs": [
    {
     "name": "stdout",
     "output_type": "stream",
     "text": [
      "92/92 [==============================] - 0s 473us/step\n"
     ]
    }
   ],
   "source": [
    "Y_pred_test_LSTM = model.predict(X_test)"
   ]
  },
  {
   "cell_type": "code",
   "execution_count": 14,
   "id": "e94593bf",
   "metadata": {},
   "outputs": [
    {
     "data": {
      "image/png": "[encoded data removed]",
      "text/plain": [
       "<Figure size 640x480 with 1 Axes>"
      ]
     },
     "metadata": {},
     "output_type": "display_data"
    }
   ],
   "source": [
    "plt.plot(Y_pred_test_LSTM, label='Prediction')\n",
    "plt.plot(Y_test.to_numpy(), label='True')\n",
    "plt.title(\"MSFT Stock Prediction\")\n",
    "plt.xlabel('Days')\n",
    "plt.ylabel('Adjusted Close (Scaled)')\n",
    "plt.legend()\n",
    "plt.show()"
   ]
  },
  {
   "cell_type": "markdown",
   "id": "039f5e98",
   "metadata": {},
   "source": [
    "    The prediction is good at forecasting the stock price patterns, but tend to undervalue the stocks. This trend gets worse as time goes on, which is reasonable because it is a time series prediction. Because we are using the earliest 60% of the data to train the model, as we move further into the future, the less the training data reflects the test data, and so we see greater variance like the plot above."
   ]
  },
  {
   "cell_type": "markdown",
   "id": "bd9caa1a",
   "metadata": {},
   "source": [
    "# 2) Predicting next week's closing price "
   ]
  },
  {
   "cell_type": "code",
   "execution_count": 15,
   "id": "83d615f9",
   "metadata": {},
   "outputs": [],
   "source": [
    "msft_offset = offset_table(msft_norm, 5)\n",
    "X_train, Y_train, X_test, Y_test = train_test_split(msft_offset, 0.6)"
   ]
  },
  {
   "cell_type": "code",
   "execution_count": 16,
   "id": "ce25e404",
   "metadata": {
    "scrolled": true
   },
   "outputs": [
    {
     "name": "stdout",
     "output_type": "stream",
     "text": [
      "Epoch 1/50\n",
      "550/550 [==============================] - 1s 669us/step - loss: 6.7546e-05\n",
      "Epoch 2/50\n",
      "550/550 [==============================] - 0s 676us/step - loss: 6.6320e-05\n",
      "Epoch 3/50\n",
      "550/550 [==============================] - 0s 682us/step - loss: 6.7984e-05\n",
      "Epoch 4/50\n",
      "550/550 [==============================] - 0s 691us/step - loss: 6.9374e-05\n",
      "Epoch 5/50\n",
      "550/550 [==============================] - 0s 695us/step - loss: 7.0048e-05\n",
      "Epoch 6/50\n",
      "550/550 [==============================] - 0s 682us/step - loss: 7.0659e-05\n",
      "Epoch 7/50\n",
      "550/550 [==============================] - 0s 687us/step - loss: 7.0874e-05\n",
      "Epoch 7: early stopping\n"
     ]
    },
    {
     "data": {
      "text/plain": [
       "<keras.callbacks.History at 0x24a3c7eca00>"
      ]
     },
     "execution_count": 16,
     "metadata": {},
     "output_type": "execute_result"
    }
   ],
   "source": [
    "model.fit(X_train, Y_train, epochs=50, batch_size=8, verbose=1, shuffle=False, callbacks=[early_stop])"
   ]
  },
  {
   "cell_type": "code",
   "execution_count": 17,
   "id": "f5938a49",
   "metadata": {},
   "outputs": [
    {
     "name": "stdout",
     "output_type": "stream",
     "text": [
      "138/138 [==============================] - 0s 482us/step\n",
      "The R2 score on the Train set is:\t0.968\n",
      "92/92 [==============================] - 0s 484us/step\n",
      "The R2 score on the Test set is:\t0.535\n"
     ]
    }
   ],
   "source": [
    "Y_train_pred = model.predict(X_train)\n",
    "print(\"The R2 score on the Train set is:\\t{:0.3f}\".format(r2_score(Y_train, Y_train_pred)))\n",
    "r2_train = r2_score(Y_train, Y_train_pred)\n",
    "\n",
    "Y_test_pred = model.predict(X_test)\n",
    "print(\"The R2 score on the Test set is:\\t{:0.3f}\".format(r2_score(Y_test, Y_test_pred)))\n",
    "r2_test = r2_score(Y_test, Y_test_pred)"
   ]
  },
  {
   "cell_type": "code",
   "execution_count": 18,
   "id": "0129b159",
   "metadata": {},
   "outputs": [
    {
     "name": "stdout",
     "output_type": "stream",
     "text": [
      "2932/2932 [==============================] - 1s 472us/step - loss: 0.0223\n",
      "92/92 [==============================] - 0s 484us/step\n"
     ]
    }
   ],
   "source": [
    "loss = model.evaluate(X_test, Y_test, batch_size=1)\n",
    "Y_pred_test_LSTM = model.predict(X_test)"
   ]
  },
  {
   "cell_type": "code",
   "execution_count": 19,
   "id": "079dc109",
   "metadata": {},
   "outputs": [
    {
     "data": {
      "image/png": "[encoded data removed]",
      "text/plain": [
       "<Figure size 640x480 with 1 Axes>"
      ]
     },
     "metadata": {},
     "output_type": "display_data"
    }
   ],
   "source": [
    "plt.plot(Y_pred_test_LSTM, label='Prediction')\n",
    "plt.plot(Y_test.to_numpy(), label='True')\n",
    "plt.title(\"MSFT Stock Prediction\")\n",
    "plt.xlabel('Days')\n",
    "plt.ylabel('Adjusted Close (Scaled)')\n",
    "plt.legend()\n",
    "plt.show()"
   ]
  },
  {
   "cell_type": "markdown",
   "id": "12d1ac9d",
   "metadata": {},
   "source": [
    "    As expected, predicting stock prices one week in the future is much more difficult. We see the recurring probelem of decreased accuracy over time, but with higher loss than before. The model is still able to predicts trends pretty accurately."
   ]
  },
  {
   "cell_type": "markdown",
   "id": "ca49dc95",
   "metadata": {},
   "source": [
    "# 3) Predicting  Up or Down\n"
   ]
  },
  {
   "cell_type": "code",
   "execution_count": null,
   "id": "9e2639d4",
   "metadata": {},
   "outputs": [],
   "source": []
  }
 ],
 "metadata": {
  "kernelspec": {
   "display_name": "Python 3 (ipykernel)",
   "language": "python",
   "name": "python3"
  },
  "language_info": {
   "codemirror_mode": {
    "name": "ipython",
    "version": 3
   },
   "file_extension": ".py",
   "mimetype": "text/x-python",
   "name": "python",
   "nbconvert_exporter": "python",
   "pygments_lexer": "ipython3",
   "version": "3.9.13"
  }
 },
 "nbformat": 4,
 "nbformat_minor": 5
}
