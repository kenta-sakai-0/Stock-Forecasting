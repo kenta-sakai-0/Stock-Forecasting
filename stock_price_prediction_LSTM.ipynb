{
 "cells": [
  {
   "cell_type": "markdown",
   "metadata": {},
   "source": [
    "# Stock Price Prediction of Microsoft"
   ]
  },
  {
   "cell_type": "code",
   "execution_count": 24,
   "metadata": {},
   "outputs": [],
   "source": [
    "import pandas as pd\n",
    "import numpy as np\n",
    "%matplotlib inline\n",
    "import matplotlib.pyplot as plt\n",
    "import matplotlib\n",
    "from sklearn.preprocessing import MinMaxScaler\n",
    "from keras.layers import LSTM,Dense,Dropout\n",
    "from sklearn.model_selection import TimeSeriesSplit\n",
    "from sklearn.metrics import mean_squared_error, r2_score\n",
    "import matplotlib.dates as mdates\n",
    "from sklearn import linear_model"
   ]
  },
  {
   "cell_type": "markdown",
   "metadata": {},
   "source": [
    "# Reading data using parse date\n",
    "As it is timeseries data so we have to read the data by parsing date means making data column as index."
   ]
  },
  {
   "cell_type": "code",
   "execution_count": 25,
   "metadata": {},
   "outputs": [
    {
     "data": {
      "text/html": [
       "<div>\n",
       "<style scoped>\n",
       "    .dataframe tbody tr th:only-of-type {\n",
       "        vertical-align: middle;\n",
       "    }\n",
       "\n",
       "    .dataframe tbody tr th {\n",
       "        vertical-align: top;\n",
       "    }\n",
       "\n",
       "    .dataframe thead th {\n",
       "        text-align: right;\n",
       "    }\n",
       "</style>\n",
       "<table border=\"1\" class=\"dataframe\">\n",
       "  <thead>\n",
       "    <tr style=\"text-align: right;\">\n",
       "      <th></th>\n",
       "      <th>Open</th>\n",
       "      <th>High</th>\n",
       "      <th>Low</th>\n",
       "      <th>Close</th>\n",
       "      <th>Adj Close</th>\n",
       "      <th>Volume</th>\n",
       "    </tr>\n",
       "    <tr>\n",
       "      <th>Date</th>\n",
       "      <th></th>\n",
       "      <th></th>\n",
       "      <th></th>\n",
       "      <th></th>\n",
       "      <th></th>\n",
       "      <th></th>\n",
       "    </tr>\n",
       "  </thead>\n",
       "  <tbody>\n",
       "    <tr>\n",
       "      <th>1990-01-02</th>\n",
       "      <td>0.605903</td>\n",
       "      <td>0.616319</td>\n",
       "      <td>0.598090</td>\n",
       "      <td>0.616319</td>\n",
       "      <td>0.447268</td>\n",
       "      <td>53033600</td>\n",
       "    </tr>\n",
       "    <tr>\n",
       "      <th>1990-01-03</th>\n",
       "      <td>0.621528</td>\n",
       "      <td>0.626736</td>\n",
       "      <td>0.614583</td>\n",
       "      <td>0.619792</td>\n",
       "      <td>0.449788</td>\n",
       "      <td>113772800</td>\n",
       "    </tr>\n",
       "    <tr>\n",
       "      <th>1990-01-04</th>\n",
       "      <td>0.619792</td>\n",
       "      <td>0.638889</td>\n",
       "      <td>0.616319</td>\n",
       "      <td>0.638021</td>\n",
       "      <td>0.463017</td>\n",
       "      <td>125740800</td>\n",
       "    </tr>\n",
       "    <tr>\n",
       "      <th>1990-01-05</th>\n",
       "      <td>0.635417</td>\n",
       "      <td>0.638889</td>\n",
       "      <td>0.621528</td>\n",
       "      <td>0.622396</td>\n",
       "      <td>0.451678</td>\n",
       "      <td>69564800</td>\n",
       "    </tr>\n",
       "    <tr>\n",
       "      <th>1990-01-08</th>\n",
       "      <td>0.621528</td>\n",
       "      <td>0.631944</td>\n",
       "      <td>0.614583</td>\n",
       "      <td>0.631944</td>\n",
       "      <td>0.458607</td>\n",
       "      <td>58982400</td>\n",
       "    </tr>\n",
       "  </tbody>\n",
       "</table>\n",
       "</div>"
      ],
      "text/plain": [
       "                Open      High       Low     Close  Adj Close     Volume\n",
       "Date                                                                    \n",
       "1990-01-02  0.605903  0.616319  0.598090  0.616319   0.447268   53033600\n",
       "1990-01-03  0.621528  0.626736  0.614583  0.619792   0.449788  113772800\n",
       "1990-01-04  0.619792  0.638889  0.616319  0.638021   0.463017  125740800\n",
       "1990-01-05  0.635417  0.638889  0.621528  0.622396   0.451678   69564800\n",
       "1990-01-08  0.621528  0.631944  0.614583  0.631944   0.458607   58982400"
      ]
     },
     "execution_count": 25,
     "metadata": {},
     "output_type": "execute_result"
    }
   ],
   "source": [
    "df_final = pd.read_csv(\"MSFT.csv\",na_values=['null'],index_col='Date',parse_dates=True,infer_datetime_format=True)\n",
    "df_final.head()"
   ]
  },
  {
   "cell_type": "code",
   "execution_count": 26,
   "metadata": {},
   "outputs": [
    {
     "data": {
      "text/plain": [
       "False"
      ]
     },
     "execution_count": 26,
     "metadata": {},
     "output_type": "execute_result"
    }
   ],
   "source": [
    "df_final.isnull().values.any()"
   ]
  },
  {
   "cell_type": "code",
   "execution_count": 27,
   "metadata": {},
   "outputs": [
    {
     "data": {
      "text/plain": [
       "<AxesSubplot:xlabel='Date'>"
      ]
     },
     "execution_count": 27,
     "metadata": {},
     "output_type": "execute_result"
    },
    {
     "data": {
      "image/png": "[encoded data removed]",
      "text/plain": [
       "<Figure size 640x480 with 1 Axes>"
      ]
     },
     "metadata": {},
     "output_type": "display_data"
    }
   ],
   "source": [
    "df_final['Adj Close'].plot()"
   ]
  },
  {
   "cell_type": "markdown",
   "metadata": {},
   "source": [
    "# Correlation Analysis"
   ]
  },
  {
   "cell_type": "code",
   "execution_count": 28,
   "metadata": {},
   "outputs": [],
   "source": [
    "X=df_final.drop(['Adj Close'],axis=1)\n",
    "X=X.drop(['Close'],axis=1)"
   ]
  },
  {
   "cell_type": "code",
   "execution_count": 29,
   "metadata": {},
   "outputs": [
    {
     "data": {
      "text/plain": [
       "<AxesSubplot:title={'center':'Correlation with Adj Close'}>"
      ]
     },
     "execution_count": 29,
     "metadata": {},
     "output_type": "execute_result"
    },
    {
     "data": {
      "image/png": "[encoded data removed]",
      "text/plain": [
       "<Figure size 2000x1000 with 1 Axes>"
      ]
     },
     "metadata": {},
     "output_type": "display_data"
    }
   ],
   "source": [
    "X.corrwith(df_final['Adj Close']).plot.bar(\n",
    "        figsize = (20, 10), title = \"Correlation with Adj Close\", fontsize = 20,\n",
    "        rot = 90, grid = True)"
   ]
  },
  {
   "cell_type": "code",
   "execution_count": 30,
   "metadata": {},
   "outputs": [
    {
     "data": {
      "text/html": [
       "<div>\n",
       "<style scoped>\n",
       "    .dataframe tbody tr th:only-of-type {\n",
       "        vertical-align: middle;\n",
       "    }\n",
       "\n",
       "    .dataframe tbody tr th {\n",
       "        vertical-align: top;\n",
       "    }\n",
       "\n",
       "    .dataframe thead th {\n",
       "        text-align: right;\n",
       "    }\n",
       "</style>\n",
       "<table border=\"1\" class=\"dataframe\">\n",
       "  <thead>\n",
       "    <tr style=\"text-align: right;\">\n",
       "      <th></th>\n",
       "      <th>Open</th>\n",
       "      <th>High</th>\n",
       "      <th>Low</th>\n",
       "      <th>Close</th>\n",
       "      <th>Adj Close</th>\n",
       "      <th>Volume</th>\n",
       "    </tr>\n",
       "    <tr>\n",
       "      <th>Date</th>\n",
       "      <th></th>\n",
       "      <th></th>\n",
       "      <th></th>\n",
       "      <th></th>\n",
       "      <th></th>\n",
       "      <th></th>\n",
       "    </tr>\n",
       "  </thead>\n",
       "  <tbody>\n",
       "    <tr>\n",
       "      <th>1990-01-02</th>\n",
       "      <td>0.605903</td>\n",
       "      <td>0.616319</td>\n",
       "      <td>0.598090</td>\n",
       "      <td>0.616319</td>\n",
       "      <td>0.447268</td>\n",
       "      <td>53033600</td>\n",
       "    </tr>\n",
       "    <tr>\n",
       "      <th>1990-01-03</th>\n",
       "      <td>0.621528</td>\n",
       "      <td>0.626736</td>\n",
       "      <td>0.614583</td>\n",
       "      <td>0.619792</td>\n",
       "      <td>0.449788</td>\n",
       "      <td>113772800</td>\n",
       "    </tr>\n",
       "    <tr>\n",
       "      <th>1990-01-04</th>\n",
       "      <td>0.619792</td>\n",
       "      <td>0.638889</td>\n",
       "      <td>0.616319</td>\n",
       "      <td>0.638021</td>\n",
       "      <td>0.463017</td>\n",
       "      <td>125740800</td>\n",
       "    </tr>\n",
       "    <tr>\n",
       "      <th>1990-01-05</th>\n",
       "      <td>0.635417</td>\n",
       "      <td>0.638889</td>\n",
       "      <td>0.621528</td>\n",
       "      <td>0.622396</td>\n",
       "      <td>0.451678</td>\n",
       "      <td>69564800</td>\n",
       "    </tr>\n",
       "    <tr>\n",
       "      <th>1990-01-08</th>\n",
       "      <td>0.621528</td>\n",
       "      <td>0.631944</td>\n",
       "      <td>0.614583</td>\n",
       "      <td>0.631944</td>\n",
       "      <td>0.458607</td>\n",
       "      <td>58982400</td>\n",
       "    </tr>\n",
       "  </tbody>\n",
       "</table>\n",
       "</div>"
      ],
      "text/plain": [
       "                Open      High       Low     Close  Adj Close     Volume\n",
       "Date                                                                    \n",
       "1990-01-02  0.605903  0.616319  0.598090  0.616319   0.447268   53033600\n",
       "1990-01-03  0.621528  0.626736  0.614583  0.619792   0.449788  113772800\n",
       "1990-01-04  0.619792  0.638889  0.616319  0.638021   0.463017  125740800\n",
       "1990-01-05  0.635417  0.638889  0.621528  0.622396   0.451678   69564800\n",
       "1990-01-08  0.621528  0.631944  0.614583  0.631944   0.458607   58982400"
      ]
     },
     "metadata": {},
     "output_type": "display_data"
    }
   ],
   "source": [
    "test = df_final\n",
    "# Target column\n",
    "target_adj_close = pd.DataFrame(test['Adj Close'])\n",
    "display(test.head())"
   ]
  },
  {
   "cell_type": "code",
   "execution_count": 31,
   "metadata": {},
   "outputs": [],
   "source": [
    "# selecting Feature Columns\n",
    "feature_columns = ['Open', 'High', 'Low', 'Volume']"
   ]
  },
  {
   "cell_type": "markdown",
   "metadata": {},
   "source": [
    "# Normalizing the data"
   ]
  },
  {
   "cell_type": "code",
   "execution_count": 32,
   "metadata": {},
   "outputs": [
    {
     "data": {
      "text/html": [
       "<div>\n",
       "<style scoped>\n",
       "    .dataframe tbody tr th:only-of-type {\n",
       "        vertical-align: middle;\n",
       "    }\n",
       "\n",
       "    .dataframe tbody tr th {\n",
       "        vertical-align: top;\n",
       "    }\n",
       "\n",
       "    .dataframe thead th {\n",
       "        text-align: right;\n",
       "    }\n",
       "</style>\n",
       "<table border=\"1\" class=\"dataframe\">\n",
       "  <thead>\n",
       "    <tr style=\"text-align: right;\">\n",
       "      <th></th>\n",
       "      <th>Open</th>\n",
       "      <th>High</th>\n",
       "      <th>Low</th>\n",
       "      <th>Volume</th>\n",
       "    </tr>\n",
       "    <tr>\n",
       "      <th>Date</th>\n",
       "      <th></th>\n",
       "      <th></th>\n",
       "      <th></th>\n",
       "      <th></th>\n",
       "    </tr>\n",
       "  </thead>\n",
       "  <tbody>\n",
       "    <tr>\n",
       "      <th>1990-01-02</th>\n",
       "      <td>0.000129</td>\n",
       "      <td>0.000105</td>\n",
       "      <td>0.000129</td>\n",
       "      <td>0.064837</td>\n",
       "    </tr>\n",
       "    <tr>\n",
       "      <th>1990-01-03</th>\n",
       "      <td>0.000265</td>\n",
       "      <td>0.000195</td>\n",
       "      <td>0.000273</td>\n",
       "      <td>0.144673</td>\n",
       "    </tr>\n",
       "    <tr>\n",
       "      <th>1990-01-04</th>\n",
       "      <td>0.000249</td>\n",
       "      <td>0.000300</td>\n",
       "      <td>0.000288</td>\n",
       "      <td>0.160404</td>\n",
       "    </tr>\n",
       "    <tr>\n",
       "      <th>1990-01-05</th>\n",
       "      <td>0.000386</td>\n",
       "      <td>0.000300</td>\n",
       "      <td>0.000334</td>\n",
       "      <td>0.086566</td>\n",
       "    </tr>\n",
       "    <tr>\n",
       "      <th>1990-01-08</th>\n",
       "      <td>0.000265</td>\n",
       "      <td>0.000240</td>\n",
       "      <td>0.000273</td>\n",
       "      <td>0.072656</td>\n",
       "    </tr>\n",
       "  </tbody>\n",
       "</table>\n",
       "</div>"
      ],
      "text/plain": [
       "                Open      High       Low    Volume\n",
       "Date                                              \n",
       "1990-01-02  0.000129  0.000105  0.000129  0.064837\n",
       "1990-01-03  0.000265  0.000195  0.000273  0.144673\n",
       "1990-01-04  0.000249  0.000300  0.000288  0.160404\n",
       "1990-01-05  0.000386  0.000300  0.000334  0.086566\n",
       "1990-01-08  0.000265  0.000240  0.000273  0.072656"
      ]
     },
     "execution_count": 32,
     "metadata": {},
     "output_type": "execute_result"
    }
   ],
   "source": [
    "from sklearn.preprocessing import MinMaxScaler\n",
    "scaler = MinMaxScaler()\n",
    "feature_minmax_transform_data = scaler.fit_transform(test[feature_columns])\n",
    "feature_minmax_transform = pd.DataFrame(columns=feature_columns, data=feature_minmax_transform_data, index=test.index)\n",
    "feature_minmax_transform.head()"
   ]
  },
  {
   "cell_type": "code",
   "execution_count": 33,
   "metadata": {},
   "outputs": [
    {
     "data": {
      "text/html": [
       "<div>\n",
       "<style scoped>\n",
       "    .dataframe tbody tr th:only-of-type {\n",
       "        vertical-align: middle;\n",
       "    }\n",
       "\n",
       "    .dataframe tbody tr th {\n",
       "        vertical-align: top;\n",
       "    }\n",
       "\n",
       "    .dataframe thead th {\n",
       "        text-align: right;\n",
       "    }\n",
       "</style>\n",
       "<table border=\"1\" class=\"dataframe\">\n",
       "  <thead>\n",
       "    <tr style=\"text-align: right;\">\n",
       "      <th></th>\n",
       "      <th>Open</th>\n",
       "      <th>High</th>\n",
       "      <th>Low</th>\n",
       "      <th>Volume</th>\n",
       "    </tr>\n",
       "    <tr>\n",
       "      <th>Date</th>\n",
       "      <th></th>\n",
       "      <th></th>\n",
       "      <th></th>\n",
       "      <th></th>\n",
       "    </tr>\n",
       "  </thead>\n",
       "  <tbody>\n",
       "    <tr>\n",
       "      <th>1990-01-02</th>\n",
       "      <td>0.000129</td>\n",
       "      <td>0.000105</td>\n",
       "      <td>0.000129</td>\n",
       "      <td>0.064837</td>\n",
       "    </tr>\n",
       "    <tr>\n",
       "      <th>1990-01-03</th>\n",
       "      <td>0.000265</td>\n",
       "      <td>0.000195</td>\n",
       "      <td>0.000273</td>\n",
       "      <td>0.144673</td>\n",
       "    </tr>\n",
       "    <tr>\n",
       "      <th>1990-01-04</th>\n",
       "      <td>0.000249</td>\n",
       "      <td>0.000300</td>\n",
       "      <td>0.000288</td>\n",
       "      <td>0.160404</td>\n",
       "    </tr>\n",
       "    <tr>\n",
       "      <th>1990-01-05</th>\n",
       "      <td>0.000386</td>\n",
       "      <td>0.000300</td>\n",
       "      <td>0.000334</td>\n",
       "      <td>0.086566</td>\n",
       "    </tr>\n",
       "    <tr>\n",
       "      <th>1990-01-08</th>\n",
       "      <td>0.000265</td>\n",
       "      <td>0.000240</td>\n",
       "      <td>0.000273</td>\n",
       "      <td>0.072656</td>\n",
       "    </tr>\n",
       "  </tbody>\n",
       "</table>\n",
       "</div>"
      ],
      "text/plain": [
       "                Open      High       Low    Volume\n",
       "Date                                              \n",
       "1990-01-02  0.000129  0.000105  0.000129  0.064837\n",
       "1990-01-03  0.000265  0.000195  0.000273  0.144673\n",
       "1990-01-04  0.000249  0.000300  0.000288  0.160404\n",
       "1990-01-05  0.000386  0.000300  0.000334  0.086566\n",
       "1990-01-08  0.000265  0.000240  0.000273  0.072656"
      ]
     },
     "metadata": {},
     "output_type": "display_data"
    },
    {
     "name": "stdout",
     "output_type": "stream",
     "text": [
      "Shape of features :  (7334, 4)\n",
      "Shape of target :  (7334, 1)\n"
     ]
    },
    {
     "data": {
      "text/html": [
       "<div>\n",
       "<style scoped>\n",
       "    .dataframe tbody tr th:only-of-type {\n",
       "        vertical-align: middle;\n",
       "    }\n",
       "\n",
       "    .dataframe tbody tr th {\n",
       "        vertical-align: top;\n",
       "    }\n",
       "\n",
       "    .dataframe thead th {\n",
       "        text-align: right;\n",
       "    }\n",
       "</style>\n",
       "<table border=\"1\" class=\"dataframe\">\n",
       "  <thead>\n",
       "    <tr style=\"text-align: right;\">\n",
       "      <th></th>\n",
       "      <th>Open</th>\n",
       "      <th>High</th>\n",
       "      <th>Low</th>\n",
       "      <th>Volume</th>\n",
       "    </tr>\n",
       "    <tr>\n",
       "      <th>Date</th>\n",
       "      <th></th>\n",
       "      <th></th>\n",
       "      <th></th>\n",
       "      <th></th>\n",
       "    </tr>\n",
       "  </thead>\n",
       "  <tbody>\n",
       "    <tr>\n",
       "      <th>2019-02-01</th>\n",
       "      <td>0.898632</td>\n",
       "      <td>0.895480</td>\n",
       "      <td>0.889984</td>\n",
       "      <td>0.041838</td>\n",
       "    </tr>\n",
       "    <tr>\n",
       "      <th>2019-02-04</th>\n",
       "      <td>0.890707</td>\n",
       "      <td>0.910189</td>\n",
       "      <td>0.893657</td>\n",
       "      <td>0.036290</td>\n",
       "    </tr>\n",
       "    <tr>\n",
       "      <th>2019-02-05</th>\n",
       "      <td>0.918487</td>\n",
       "      <td>0.922908</td>\n",
       "      <td>0.921554</td>\n",
       "      <td>0.031046</td>\n",
       "    </tr>\n",
       "    <tr>\n",
       "      <th>2019-02-06</th>\n",
       "      <td>0.926673</td>\n",
       "      <td>0.920572</td>\n",
       "      <td>0.917794</td>\n",
       "      <td>0.022219</td>\n",
       "    </tr>\n",
       "    <tr>\n",
       "      <th>2019-02-07</th>\n",
       "      <td>0.910911</td>\n",
       "      <td>0.908372</td>\n",
       "      <td>0.906950</td>\n",
       "      <td>0.034247</td>\n",
       "    </tr>\n",
       "  </tbody>\n",
       "</table>\n",
       "</div>"
      ],
      "text/plain": [
       "                Open      High       Low    Volume\n",
       "Date                                              \n",
       "2019-02-01  0.898632  0.895480  0.889984  0.041838\n",
       "2019-02-04  0.890707  0.910189  0.893657  0.036290\n",
       "2019-02-05  0.918487  0.922908  0.921554  0.031046\n",
       "2019-02-06  0.926673  0.920572  0.917794  0.022219\n",
       "2019-02-07  0.910911  0.908372  0.906950  0.034247"
      ]
     },
     "metadata": {},
     "output_type": "display_data"
    },
    {
     "data": {
      "text/html": [
       "<div>\n",
       "<style scoped>\n",
       "    .dataframe tbody tr th:only-of-type {\n",
       "        vertical-align: middle;\n",
       "    }\n",
       "\n",
       "    .dataframe tbody tr th {\n",
       "        vertical-align: top;\n",
       "    }\n",
       "\n",
       "    .dataframe thead th {\n",
       "        text-align: right;\n",
       "    }\n",
       "</style>\n",
       "<table border=\"1\" class=\"dataframe\">\n",
       "  <thead>\n",
       "    <tr style=\"text-align: right;\">\n",
       "      <th></th>\n",
       "      <th>Adj Close</th>\n",
       "    </tr>\n",
       "    <tr>\n",
       "      <th>Date</th>\n",
       "      <th></th>\n",
       "    </tr>\n",
       "  </thead>\n",
       "  <tbody>\n",
       "    <tr>\n",
       "      <th>2019-02-01</th>\n",
       "      <td>105.739998</td>\n",
       "    </tr>\n",
       "    <tr>\n",
       "      <th>2019-02-04</th>\n",
       "      <td>107.220001</td>\n",
       "    </tr>\n",
       "    <tr>\n",
       "      <th>2019-02-05</th>\n",
       "      <td>106.029999</td>\n",
       "    </tr>\n",
       "    <tr>\n",
       "      <th>2019-02-06</th>\n",
       "      <td>105.269997</td>\n",
       "    </tr>\n",
       "    <tr>\n",
       "      <th>2019-02-07</th>\n",
       "      <td>105.669998</td>\n",
       "    </tr>\n",
       "  </tbody>\n",
       "</table>\n",
       "</div>"
      ],
      "text/plain": [
       "             Adj Close\n",
       "Date                  \n",
       "2019-02-01  105.739998\n",
       "2019-02-04  107.220001\n",
       "2019-02-05  106.029999\n",
       "2019-02-06  105.269997\n",
       "2019-02-07  105.669998"
      ]
     },
     "metadata": {},
     "output_type": "display_data"
    },
    {
     "name": "stdout",
     "output_type": "stream",
     "text": [
      "\n",
      " -----After process------ \n",
      "\n",
      "Shape of features :  (7244, 4)\n",
      "Shape of target :  (7244, 1)\n"
     ]
    },
    {
     "data": {
      "text/html": [
       "<div>\n",
       "<style scoped>\n",
       "    .dataframe tbody tr th:only-of-type {\n",
       "        vertical-align: middle;\n",
       "    }\n",
       "\n",
       "    .dataframe tbody tr th {\n",
       "        vertical-align: top;\n",
       "    }\n",
       "\n",
       "    .dataframe thead th {\n",
       "        text-align: right;\n",
       "    }\n",
       "</style>\n",
       "<table border=\"1\" class=\"dataframe\">\n",
       "  <thead>\n",
       "    <tr style=\"text-align: right;\">\n",
       "      <th></th>\n",
       "      <th>Adj Close</th>\n",
       "    </tr>\n",
       "    <tr>\n",
       "      <th>Date</th>\n",
       "      <th></th>\n",
       "    </tr>\n",
       "  </thead>\n",
       "  <tbody>\n",
       "    <tr>\n",
       "      <th>2018-09-24</th>\n",
       "      <td>113.957695</td>\n",
       "    </tr>\n",
       "    <tr>\n",
       "      <th>2018-09-25</th>\n",
       "      <td>113.489723</td>\n",
       "    </tr>\n",
       "    <tr>\n",
       "      <th>2018-09-26</th>\n",
       "      <td>113.917870</td>\n",
       "    </tr>\n",
       "    <tr>\n",
       "      <th>2018-09-27</th>\n",
       "      <td>113.878044</td>\n",
       "    </tr>\n",
       "    <tr>\n",
       "      <th>2018-09-28</th>\n",
       "      <td>115.112709</td>\n",
       "    </tr>\n",
       "  </tbody>\n",
       "</table>\n",
       "</div>"
      ],
      "text/plain": [
       "             Adj Close\n",
       "Date                  \n",
       "2018-09-24  113.957695\n",
       "2018-09-25  113.489723\n",
       "2018-09-26  113.917870\n",
       "2018-09-27  113.878044\n",
       "2018-09-28  115.112709"
      ]
     },
     "metadata": {},
     "output_type": "display_data"
    }
   ],
   "source": [
    "display(feature_minmax_transform.head())\n",
    "print('Shape of features : ', feature_minmax_transform.shape)\n",
    "print('Shape of target : ', target_adj_close.shape)\n",
    "\n",
    "# Shift target array because we want to predict the n + 1 day value\n",
    "\n",
    "target_adj_close = target_adj_close.shift(-1)\n",
    "validation_y = target_adj_close[-90:-1]\n",
    "target_adj_close = target_adj_close[:-90]\n",
    "\n",
    "# Taking last 90 rows of data to be validation set\n",
    "validation_X = feature_minmax_transform[-90:-1]\n",
    "feature_minmax_transform = feature_minmax_transform[:-90]\n",
    "display(validation_X.tail())\n",
    "display(validation_y.tail())\n",
    "\n",
    "print(\"\\n -----After process------ \\n\")\n",
    "print('Shape of features : ', feature_minmax_transform.shape)\n",
    "print('Shape of target : ', target_adj_close.shape)\n",
    "display(target_adj_close.tail())"
   ]
  },
  {
   "cell_type": "markdown",
   "metadata": {},
   "source": [
    "# Train test Split using Timeseriessplit"
   ]
  },
  {
   "cell_type": "code",
   "execution_count": 34,
   "metadata": {},
   "outputs": [],
   "source": [
    "ts_split= TimeSeriesSplit(n_splits=10)\n",
    "for train_index, test_index in ts_split.split(feature_minmax_transform):\n",
    "        X_train, X_test = feature_minmax_transform[:len(train_index)], feature_minmax_transform[len(train_index): (len(train_index)+len(test_index))]\n",
    "        y_train, y_test = target_adj_close[:len(train_index)].values.ravel(), target_adj_close[len(train_index): (len(train_index)+len(test_index))].values.ravel()"
   ]
  },
  {
   "cell_type": "code",
   "execution_count": 35,
   "metadata": {},
   "outputs": [
    {
     "data": {
      "text/plain": [
       "(6586, 4)"
      ]
     },
     "execution_count": 35,
     "metadata": {},
     "output_type": "execute_result"
    }
   ],
   "source": [
    "X_train.shape"
   ]
  },
  {
   "cell_type": "code",
   "execution_count": 36,
   "metadata": {},
   "outputs": [
    {
     "data": {
      "text/plain": [
       "(658, 4)"
      ]
     },
     "execution_count": 36,
     "metadata": {},
     "output_type": "execute_result"
    }
   ],
   "source": [
    "X_test.shape"
   ]
  },
  {
   "cell_type": "code",
   "execution_count": 37,
   "metadata": {},
   "outputs": [
    {
     "data": {
      "text/plain": [
       "(6586,)"
      ]
     },
     "execution_count": 37,
     "metadata": {},
     "output_type": "execute_result"
    }
   ],
   "source": [
    "y_train.shape"
   ]
  },
  {
   "cell_type": "code",
   "execution_count": 38,
   "metadata": {},
   "outputs": [
    {
     "data": {
      "text/plain": [
       "(658,)"
      ]
     },
     "execution_count": 38,
     "metadata": {},
     "output_type": "execute_result"
    }
   ],
   "source": [
    "y_test.shape"
   ]
  },
  {
   "cell_type": "code",
   "execution_count": 41,
   "metadata": {},
   "outputs": [],
   "source": [
    "def validate_result(model, model_name):\n",
    "    predicted = model.predict(validation_X)\n",
    "    RSME_score = np.sqrt(mean_squared_error(validation_y, predicted))\n",
    "    print('RMSE: ', RSME_score)\n",
    "    \n",
    "    R2_score = r2_score(validation_y, predicted)\n",
    "    print('R2 score: ', R2_score)\n",
    "\n",
    "    plt.plot(validation_y.index, predicted,'r', label='Predict')\n",
    "    plt.plot(validation_y.index, validation_y,'b', label='Actual')\n",
    "    plt.ylabel('Price')\n",
    "    plt.gca().xaxis.set_major_formatter(mdates.DateFormatter('%Y-%m-%d'))\n",
    "    plt.gca().xaxis.set_major_locator(mdates.MonthLocator())\n",
    "    plt.title(model_name + ' Predict vs Actual')\n",
    "    plt.legend(loc='upper right')\n",
    "    plt.show()"
   ]
  },
  {
   "cell_type": "markdown",
   "metadata": {},
   "source": [
    "# Benchmark Model"
   ]
  },
  {
   "cell_type": "code",
   "execution_count": null,
   "metadata": {},
   "outputs": [],
   "source": [
    "from sklearn.tree import DecisionTreeRegressor\n",
    "\n",
    "dt = DecisionTreeRegressor(random_state=0)\n",
    "\n",
    "benchmark_dt=dt.fit(X_train, y_train)\n",
    "\n",
    "validate_result(benchmark_dt, 'Decision Tree Regression')"
   ]
  },
  {
   "cell_type": "code",
   "execution_count": 42,
   "metadata": {},
   "outputs": [
    {
     "data": {
      "text/html": [
       "<div>\n",
       "<style scoped>\n",
       "    .dataframe tbody tr th:only-of-type {\n",
       "        vertical-align: middle;\n",
       "    }\n",
       "\n",
       "    .dataframe tbody tr th {\n",
       "        vertical-align: top;\n",
       "    }\n",
       "\n",
       "    .dataframe thead th {\n",
       "        text-align: right;\n",
       "    }\n",
       "</style>\n",
       "<table border=\"1\" class=\"dataframe\">\n",
       "  <thead>\n",
       "    <tr style=\"text-align: right;\">\n",
       "      <th></th>\n",
       "      <th>Open</th>\n",
       "      <th>High</th>\n",
       "      <th>Low</th>\n",
       "      <th>Volume</th>\n",
       "    </tr>\n",
       "    <tr>\n",
       "      <th>Date</th>\n",
       "      <th></th>\n",
       "      <th></th>\n",
       "      <th></th>\n",
       "      <th></th>\n",
       "    </tr>\n",
       "  </thead>\n",
       "  <tbody>\n",
       "    <tr>\n",
       "      <th>1990-01-02</th>\n",
       "      <td>0.000129</td>\n",
       "      <td>0.000105</td>\n",
       "      <td>0.000129</td>\n",
       "      <td>0.064837</td>\n",
       "    </tr>\n",
       "    <tr>\n",
       "      <th>1990-01-03</th>\n",
       "      <td>0.000265</td>\n",
       "      <td>0.000195</td>\n",
       "      <td>0.000273</td>\n",
       "      <td>0.144673</td>\n",
       "    </tr>\n",
       "    <tr>\n",
       "      <th>1990-01-04</th>\n",
       "      <td>0.000249</td>\n",
       "      <td>0.000300</td>\n",
       "      <td>0.000288</td>\n",
       "      <td>0.160404</td>\n",
       "    </tr>\n",
       "    <tr>\n",
       "      <th>1990-01-05</th>\n",
       "      <td>0.000386</td>\n",
       "      <td>0.000300</td>\n",
       "      <td>0.000334</td>\n",
       "      <td>0.086566</td>\n",
       "    </tr>\n",
       "    <tr>\n",
       "      <th>1990-01-08</th>\n",
       "      <td>0.000265</td>\n",
       "      <td>0.000240</td>\n",
       "      <td>0.000273</td>\n",
       "      <td>0.072656</td>\n",
       "    </tr>\n",
       "    <tr>\n",
       "      <th>...</th>\n",
       "      <td>...</td>\n",
       "      <td>...</td>\n",
       "      <td>...</td>\n",
       "      <td>...</td>\n",
       "    </tr>\n",
       "    <tr>\n",
       "      <th>2016-02-12</th>\n",
       "      <td>0.432460</td>\n",
       "      <td>0.433273</td>\n",
       "      <td>0.429979</td>\n",
       "      <td>0.040139</td>\n",
       "    </tr>\n",
       "    <tr>\n",
       "      <th>2016-02-16</th>\n",
       "      <td>0.438120</td>\n",
       "      <td>0.436820</td>\n",
       "      <td>0.433302</td>\n",
       "      <td>0.044145</td>\n",
       "    </tr>\n",
       "    <tr>\n",
       "      <th>2016-02-17</th>\n",
       "      <td>0.443258</td>\n",
       "      <td>0.451356</td>\n",
       "      <td>0.444846</td>\n",
       "      <td>0.048743</td>\n",
       "    </tr>\n",
       "    <tr>\n",
       "      <th>2016-02-18</th>\n",
       "      <td>0.450574</td>\n",
       "      <td>0.452913</td>\n",
       "      <td>0.450531</td>\n",
       "      <td>0.030850</td>\n",
       "    </tr>\n",
       "    <tr>\n",
       "      <th>2016-02-19</th>\n",
       "      <td>0.447439</td>\n",
       "      <td>0.447116</td>\n",
       "      <td>0.445546</td>\n",
       "      <td>0.039240</td>\n",
       "    </tr>\n",
       "  </tbody>\n",
       "</table>\n",
       "<p>6586 rows × 4 columns</p>\n",
       "</div>"
      ],
      "text/plain": [
       "                Open      High       Low    Volume\n",
       "Date                                              \n",
       "1990-01-02  0.000129  0.000105  0.000129  0.064837\n",
       "1990-01-03  0.000265  0.000195  0.000273  0.144673\n",
       "1990-01-04  0.000249  0.000300  0.000288  0.160404\n",
       "1990-01-05  0.000386  0.000300  0.000334  0.086566\n",
       "1990-01-08  0.000265  0.000240  0.000273  0.072656\n",
       "...              ...       ...       ...       ...\n",
       "2016-02-12  0.432460  0.433273  0.429979  0.040139\n",
       "2016-02-16  0.438120  0.436820  0.433302  0.044145\n",
       "2016-02-17  0.443258  0.451356  0.444846  0.048743\n",
       "2016-02-18  0.450574  0.452913  0.450531  0.030850\n",
       "2016-02-19  0.447439  0.447116  0.445546  0.039240\n",
       "\n",
       "[6586 rows x 4 columns]"
      ]
     },
     "execution_count": 42,
     "metadata": {},
     "output_type": "execute_result"
    }
   ],
   "source": [
    "X_train"
   ]
  },
  {
   "cell_type": "markdown",
   "metadata": {},
   "source": [
    "# Process the data for LSTM"
   ]
  },
  {
   "cell_type": "code",
   "execution_count": 20,
   "metadata": {},
   "outputs": [],
   "source": [
    "X_train =np.array(X_train)\n",
    "X_test =np.array(X_test)\n",
    "\n",
    "X_tr_t = X_train.reshape(X_train.shape[0], 1, X_train.shape[1])\n",
    "X_tst_t = X_test.reshape(X_test.shape[0], 1, X_test.shape[1])"
   ]
  },
  {
   "cell_type": "code",
   "execution_count": 23,
   "metadata": {},
   "outputs": [
    {
     "data": {
      "text/plain": [
       "array([[1.28512998e-04, 1.05143088e-04, 1.29054920e-04, 6.48371500e-02],\n",
       "       [2.64585071e-04, 1.95274388e-04, 2.73291744e-04, 1.44673280e-01],\n",
       "       [2.49466920e-04, 3.00426128e-04, 2.88473647e-04, 1.60404123e-01],\n",
       "       ...,\n",
       "       [4.43258424e-01, 4.51355890e-01, 4.44846092e-01, 4.87427418e-02],\n",
       "       [4.50573659e-01, 4.52913318e-01, 4.50530534e-01, 3.08496968e-02],\n",
       "       [4.47438550e-01, 4.47116241e-01, 4.45545702e-01, 3.92396987e-02]])"
      ]
     },
     "execution_count": 23,
     "metadata": {},
     "output_type": "execute_result"
    }
   ],
   "source": [
    "X_train"
   ]
  },
  {
   "cell_type": "markdown",
   "metadata": {},
   "source": [
    "# Model building : LSTM"
   ]
  },
  {
   "cell_type": "code",
   "execution_count": 22,
   "metadata": {},
   "outputs": [
    {
     "name": "stdout",
     "output_type": "stream",
     "text": [
      "Epoch 1/200\n",
      "824/824 [==============================] - 1s 680us/step - loss: 101.2070\n",
      "Epoch 2/200\n",
      "824/824 [==============================] - 1s 670us/step - loss: 30.0705\n",
      "Epoch 3/200\n",
      "824/824 [==============================] - 1s 670us/step - loss: 21.7778\n",
      "Epoch 4/200\n",
      "824/824 [==============================] - 1s 671us/step - loss: 12.6338\n",
      "Epoch 5/200\n",
      "824/824 [==============================] - 1s 662us/step - loss: 5.6558\n",
      "Epoch 6/200\n",
      "824/824 [==============================] - 1s 670us/step - loss: 2.3669\n",
      "Epoch 7/200\n",
      "824/824 [==============================] - 1s 670us/step - loss: 1.3482\n",
      "Epoch 8/200\n",
      "824/824 [==============================] - 1s 665us/step - loss: 1.0503\n",
      "Epoch 9/200\n",
      "824/824 [==============================] - 1s 668us/step - loss: 0.9251\n",
      "Epoch 10/200\n",
      "824/824 [==============================] - 1s 663us/step - loss: 0.8544\n",
      "Epoch 11/200\n",
      "824/824 [==============================] - 1s 659us/step - loss: 0.8096\n",
      "Epoch 12/200\n",
      "824/824 [==============================] - 1s 659us/step - loss: 0.7798\n",
      "Epoch 13/200\n",
      "824/824 [==============================] - 1s 662us/step - loss: 0.7594\n",
      "Epoch 14/200\n",
      "824/824 [==============================] - 1s 676us/step - loss: 0.7449\n",
      "Epoch 15/200\n",
      "824/824 [==============================] - 1s 672us/step - loss: 0.7344\n",
      "Epoch 16/200\n",
      "824/824 [==============================] - 1s 663us/step - loss: 0.7266\n",
      "Epoch 17/200\n",
      "824/824 [==============================] - 1s 663us/step - loss: 0.7206\n",
      "Epoch 18/200\n",
      "824/824 [==============================] - 1s 671us/step - loss: 0.7159\n",
      "Epoch 19/200\n",
      "824/824 [==============================] - 1s 665us/step - loss: 0.7122\n",
      "Epoch 20/200\n",
      "824/824 [==============================] - 1s 664us/step - loss: 0.7093\n",
      "Epoch 21/200\n",
      "824/824 [==============================] - 1s 663us/step - loss: 0.7069\n",
      "Epoch 22/200\n",
      "824/824 [==============================] - 1s 659us/step - loss: 0.7050\n",
      "Epoch 23/200\n",
      "824/824 [==============================] - 1s 662us/step - loss: 0.7036\n",
      "Epoch 24/200\n",
      "824/824 [==============================] - 1s 659us/step - loss: 0.7024\n",
      "Epoch 25/200\n",
      "824/824 [==============================] - 1s 662us/step - loss: 0.7015\n",
      "Epoch 26/200\n",
      "824/824 [==============================] - 1s 662us/step - loss: 0.7009\n",
      "Epoch 27/200\n",
      "824/824 [==============================] - 1s 659us/step - loss: 0.7004\n",
      "Epoch 28/200\n",
      "824/824 [==============================] - 1s 659us/step - loss: 0.7002\n",
      "Epoch 29/200\n",
      "824/824 [==============================] - 1s 659us/step - loss: 0.7001\n",
      "Epoch 30/200\n",
      "824/824 [==============================] - 1s 662us/step - loss: 0.7001\n",
      "Epoch 31/200\n",
      "824/824 [==============================] - 1s 663us/step - loss: 0.7003\n",
      "Epoch 32/200\n",
      "824/824 [==============================] - 1s 665us/step - loss: 0.7005\n",
      "Epoch 33/200\n",
      "824/824 [==============================] - 1s 663us/step - loss: 0.7008\n",
      "Epoch 34/200\n",
      "824/824 [==============================] - 1s 662us/step - loss: 0.7012\n",
      "Epoch 34: early stopping\n"
     ]
    }
   ],
   "source": [
    "\n",
    "from keras.models import Sequential\n",
    "from keras.layers import Dense\n",
    "import keras.backend as K\n",
    "from keras.callbacks import EarlyStopping\n",
    "from keras.optimizers import Adam\n",
    "from keras.models import load_model\n",
    "from keras.layers import LSTM\n",
    "K.clear_session()\n",
    "model_lstm = Sequential()\n",
    "model_lstm.add(LSTM(16, input_shape=(1, X_train.shape[1]), activation='relu', return_sequences=False))\n",
    "model_lstm.add(Dense(1))\n",
    "model_lstm.compile(loss='mean_squared_error', optimizer='adam')\n",
    "early_stop = EarlyStopping(monitor='loss', patience=5, verbose=1)\n",
    "history_model_lstm = model_lstm.fit(X_tr_t, y_train, epochs=200, batch_size=8, verbose=1, shuffle=False, callbacks=[early_stop])"
   ]
  },
  {
   "cell_type": "markdown",
   "metadata": {},
   "source": [
    "# Evaluation of Model"
   ]
  },
  {
   "cell_type": "code",
   "execution_count": 23,
   "metadata": {},
   "outputs": [
    {
     "name": "stdout",
     "output_type": "stream",
     "text": [
      "21/21 [==============================] - 0s 551us/step\n",
      "206/206 [==============================] - 0s 478us/step\n",
      "The R2 score on the Train set is:\t0.885\n",
      "The R2 score on the Test set is:\t0.898\n"
     ]
    }
   ],
   "source": [
    "y_pred_test_lstm = model_lstm.predict(X_tst_t)\n",
    "y_train_pred_lstm = model_lstm.predict(X_tr_t)\n",
    "print(\"The R2 score on the Train set is:\\t{:0.3f}\".format(r2_score(y_train, y_train_pred_lstm)))\n",
    "r2_train = r2_score(y_train, y_train_pred_lstm)\n",
    "\n",
    "print(\"The R2 score on the Test set is:\\t{:0.3f}\".format(r2_score(y_test, y_pred_test_lstm)))\n",
    "r2_test = r2_score(y_test, y_pred_test_lstm)\n"
   ]
  },
  {
   "cell_type": "markdown",
   "metadata": {},
   "source": [
    "## Predictions made by LSTM"
   ]
  },
  {
   "cell_type": "code",
   "execution_count": 24,
   "metadata": {},
   "outputs": [
    {
     "name": "stdout",
     "output_type": "stream",
     "text": [
      "658/658 [==============================] - 0s 469us/step - loss: 36.7118\n"
     ]
    }
   ],
   "source": [
    "score_lstm= model_lstm.evaluate(X_tst_t, y_test, batch_size=1)"
   ]
  },
  {
   "cell_type": "code",
   "execution_count": 25,
   "metadata": {},
   "outputs": [
    {
     "name": "stdout",
     "output_type": "stream",
     "text": [
      "LSTM: 36.711796\n"
     ]
    }
   ],
   "source": [
    "print('LSTM: %f'%score_lstm)"
   ]
  },
  {
   "cell_type": "code",
   "execution_count": 26,
   "metadata": {},
   "outputs": [
    {
     "name": "stdout",
     "output_type": "stream",
     "text": [
      "21/21 [==============================] - 0s 500us/step\n"
     ]
    }
   ],
   "source": [
    "y_pred_test_LSTM = model_lstm.predict(X_tst_t)"
   ]
  },
  {
   "cell_type": "markdown",
   "metadata": {},
   "source": [
    "# LSTM's Prediction Visual"
   ]
  },
  {
   "cell_type": "code",
   "execution_count": 27,
   "metadata": {},
   "outputs": [
    {
     "data": {
      "image/png": "[encoded data removed]",
      "text/plain": [
       "<Figure size 640x480 with 1 Axes>"
      ]
     },
     "metadata": {},
     "output_type": "display_data"
    }
   ],
   "source": [
    "plt.plot(y_test, label='True')\n",
    "plt.plot(y_pred_test_LSTM, label='LSTM')\n",
    "plt.title(\"LSTM's_Prediction\")\n",
    "plt.xlabel('Observation')\n",
    "plt.ylabel('INR_Scaled')\n",
    "plt.legend()\n",
    "plt.show()\n"
   ]
  },
  {
   "cell_type": "markdown",
   "metadata": {},
   "source": [
    "# Converting Prediction data\n",
    "In this step I have made the prediction of test data and will convert the dataframe to csv so that we can see the price difference between actual and predicted price."
   ]
  },
  {
   "cell_type": "code",
   "execution_count": 28,
   "metadata": {},
   "outputs": [],
   "source": [
    "col1 = pd.DataFrame(y_test, columns=['True'])\n",
    "\n",
    "col2 = pd.DataFrame(y_pred_test_LSTM, columns=['LSTM_prediction'])\n",
    "\n",
    "col3 = pd.DataFrame(history_model_lstm.history['loss'], columns=['Loss_LSTM'])\n",
    "results = pd.concat([col1, col2, col3], axis=1)\n",
    "results.to_excel('PredictionResults_LSTM_NonShift.xlsx')"
   ]
  },
  {
   "cell_type": "markdown",
   "metadata": {},
   "source": [
    "# Conclusion"
   ]
  },
  {
   "cell_type": "markdown",
   "metadata": {},
   "source": [
    "It is impossible to  get a model that can 99% predict the price without any error, there are too many factors can affect the\n",
    "stock prices. So, we cannot hope there is a perfect model, but the general trend of predicted price is in line with the actual data, so the trader could have an indicator to reference, and makes trading decision by himself.\n",
    "\n",
    "\n",
    "Further, we can improve the model's accuracy by increasing the epochs, trying out different activation functions or even change the model's structure. As exact "
   ]
  },
  {
   "cell_type": "code",
   "execution_count": null,
   "metadata": {},
   "outputs": [],
   "source": []
  }
 ],
 "metadata": {
  "kernelspec": {
   "display_name": "Python 3 (ipykernel)",
   "language": "python",
   "name": "python3"
  },
  "language_info": {
   "codemirror_mode": {
    "name": "ipython",
    "version": 3
   },
   "file_extension": ".py",
   "mimetype": "text/x-python",
   "name": "python",
   "nbconvert_exporter": "python",
   "pygments_lexer": "ipython3",
   "version": "3.9.13"
  }
 },
 "nbformat": 4,
 "nbformat_minor": 2
}
